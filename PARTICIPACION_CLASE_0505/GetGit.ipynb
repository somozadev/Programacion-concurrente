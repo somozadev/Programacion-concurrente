{
 "metadata": {
  "language_info": {
   "codemirror_mode": {
    "name": "ipython",
    "version": 3
   },
   "file_extension": ".py",
   "mimetype": "text/x-python",
   "name": "python",
   "nbconvert_exporter": "python",
   "pygments_lexer": "ipython3",
   "version": "3.9.1"
  },
  "orig_nbformat": 2,
  "kernelspec": {
   "name": "python391jvsc74a57bd09afd1c93655643a3515b9ec374dd027d2e4aa47448a883b69ea119c252b3b45f",
   "display_name": "Python 3.9.1 64-bit"
  }
 },
 "nbformat": 4,
 "nbformat_minor": 2,
 "cells": [
  {
   "cell_type": "code",
   "execution_count": 1,
   "metadata": {},
   "outputs": [
    {
     "output_type": "stream",
     "name": "stdout",
     "text": [
      " El volumen de la unidad C no tiene etiqueta.\n El n�mero de serie del volumen es: 60F7-0D91\n\n Directorio de c:\\Users\\mesom\\CARRERA\\Programacion-concurrente\\PARTICIPACION_CLASE_0505\n\n05/05/2021  15:37    <DIR>          .\n05/05/2021  15:37    <DIR>          ..\n05/05/2021  15:37                 0 GetGit.ipynb\n               1 archivos              0 bytes\n               2 dirs  240.298.188.800 bytes libres\n"
     ]
    }
   ],
   "source": [
    "ls"
   ]
  },
  {
   "cell_type": "code",
   "execution_count": 2,
   "metadata": {},
   "outputs": [
    {
     "output_type": "stream",
     "name": "stderr",
     "text": [
      "Cloning into 'ClassParticipation'...\n"
     ]
    }
   ],
   "source": [
    "! git clone https://github.com/sukuzhanay/ClassParticipation.git"
   ]
  }
 ]
}