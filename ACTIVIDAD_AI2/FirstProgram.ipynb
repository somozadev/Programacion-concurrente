{
 "metadata": {
  "language_info": {
   "codemirror_mode": {
    "name": "ipython",
    "version": 3
   },
   "file_extension": ".py",
   "mimetype": "text/x-python",
   "name": "python",
   "nbconvert_exporter": "python",
   "pygments_lexer": "ipython3",
   "version": "3.8.5-final"
  },
  "orig_nbformat": 2,
  "kernelspec": {
   "name": "python3",
   "display_name": "Python 3",
   "language": "python"
  }
 },
 "nbformat": 4,
 "nbformat_minor": 2,
 "cells": [
  {
   "cell_type": "code",
   "execution_count": 29,
   "metadata": {},
   "outputs": [],
   "source": [
    "#PRIMER PROGRAMA PCD"
   ]
  },
  {
   "cell_type": "code",
   "execution_count": 30,
   "metadata": {},
   "outputs": [],
   "source": [
    "import os"
   ]
  },
  {
   "cell_type": "code",
   "execution_count": 31,
   "metadata": {},
   "outputs": [],
   "source": [
    "#Interact with the OS "
   ]
  },
  {
   "cell_type": "code",
   "execution_count": 32,
   "metadata": {},
   "outputs": [],
   "source": [
    "import threading"
   ]
  },
  {
   "cell_type": "code",
   "execution_count": 33,
   "metadata": {},
   "outputs": [
    {
     "output_type": "stream",
     "name": "stdout",
     "text": [
      "El proceso que esta manejando este programa es :  17100\n"
     ]
    }
   ],
   "source": [
    "print(\"El proceso que esta manejando este programa es : \", os.getpid())"
   ]
  },
  {
   "cell_type": "code",
   "execution_count": 34,
   "metadata": {},
   "outputs": [],
   "source": [
    "def Cpu():\n",
    "    while True:\n",
    "        pass"
   ]
  },
  {
   "cell_type": "code",
   "execution_count": 37,
   "metadata": {},
   "outputs": [
    {
     "output_type": "stream",
     "name": "stdout",
     "text": [
      "El proceso esta ejecutando este numero de hilos:  7\n"
     ]
    }
   ],
   "source": [
    "print(\"El proceso esta ejecutando este numero de hilos: \", threading.activeCount())"
   ]
  },
  {
   "cell_type": "code",
   "execution_count": 40,
   "metadata": {},
   "outputs": [
    {
     "output_type": "stream",
     "name": "stdout",
     "text": [
      "Este equipo tiene un total de  20  nucleos\n"
     ]
    }
   ],
   "source": [
    "print(\"Este equipo tiene un total de \", os.cpu_count(), \" nucleos\")\n",
    "#Nuestro equipo puede tener cores fisicos que no tienen porque estar funcionando al 100%, el hyperthreading vaya (si no estas usando un core, mete otra actividad... por eso se magnifican con multiplos de dos) es decir, os.cpu_count() nos da los cores logicos, no los fisicos.\n"
   ]
  }
 ]
}