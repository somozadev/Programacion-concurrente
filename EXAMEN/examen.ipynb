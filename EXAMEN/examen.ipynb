{
 "metadata": {
  "language_info": {
   "codemirror_mode": {
    "name": "ipython",
    "version": 3
   },
   "file_extension": ".py",
   "mimetype": "text/x-python",
   "name": "python",
   "nbconvert_exporter": "python",
   "pygments_lexer": "ipython3",
   "version": "3.9.1"
  },
  "orig_nbformat": 2,
  "kernelspec": {
   "name": "python391jvsc74a57bd09afd1c93655643a3515b9ec374dd027d2e4aa47448a883b69ea119c252b3b45f",
   "display_name": "Python 3.9.1 64-bit"
  }
 },
 "nbformat": 4,
 "nbformat_minor": 2,
 "cells": [
  {
   "source": [
    "<h1 style = \"text-align:center\">Programación Concurrente y Distribuida </h1>\n",
    "<h2 style = \"text-align:center\">Examen práctico</h2>\n",
    "<h3 style = \"text-align:center\"> 28/04/2021 </h3>\n",
    "<a href=\"https://github.com/somozadev\">\n",
    "<img src= \"https://avatars.githubusercontent.com/u/35799901?v=4\" title = \"Marcos Eladio Somoza Corral 21711787\" alt=\"Marcos Eladio Somoza Corral\" width=\"100\" height=\"100\" style=\"float:left;vertical-alig:middle\">\n",
    "<img src=\"https://universidadeuropea.com/resources/static/img/ue-logo-handwritting.png\" title= \"M21\"alt=\"UE\" width=\"105\" heighºt=\"105\" style=\"float:right;vertical-alig:middle\">"
   ],
   "cell_type": "markdown",
   "metadata": {}
  },
  {
   "source": [
    "<h1>Pregunta-1</h1> "
   ],
   "cell_type": "markdown",
   "metadata": {}
  },
  {
   "cell_type": "code",
   "execution_count": 6,
   "metadata": {},
   "outputs": [
    {
     "output_type": "stream",
     "name": "stderr",
     "text": [
      "Cloning into 'chat_using_sockets'...\n"
     ]
    }
   ],
   "source": [
    "!git clone https://github.com/sukuzhanay/chat_using_sockets.git"
   ]
  },
  {
   "source": [
    "<h1>Pregunta-2</h1> "
   ],
   "cell_type": "markdown",
   "metadata": {}
  },
  {
   "cell_type": "code",
   "execution_count": 9,
   "metadata": {},
   "outputs": [
    {
     "output_type": "stream",
     "name": "stdout",
     "text": [
      "Your branch is up to date with 'origin/cornona-virus-chat-v2'.\n",
      "Already on 'cornona-virus-chat-v2'\n"
     ]
    }
   ],
   "source": [
    "!git checkout cornona-virus-chat-v2"
   ]
  },
  {
   "cell_type": "code",
   "execution_count": 10,
   "metadata": {},
   "outputs": [
    {
     "output_type": "stream",
     "name": "stdout",
     "text": [
      " El volumen de la unidad C no tiene etiqueta.\n El n�mero de serie del volumen es: 60F7-0D91\n\n Directorio de c:\\Users\\mesom\\OneDrive\\Escritorio\\examen\\chat_using_sockets\n\n28/04/2021  15:42    <DIR>          .\n28/04/2021  15:42    <DIR>          ..\n28/04/2021  15:39             1.281 cliente.py\n28/04/2021  15:37         4.047.565 coronavirus.gif\n28/04/2021  15:38               714 examen.ipynb\n28/04/2021  15:39               503 README.md\n28/04/2021  15:39             2.166 servidor.py\n28/04/2021  15:37             3.343 UEM-logo.png\n               6 archivos      4.055.572 bytes\n               2 dirs  240.398.696.448 bytes libres\n"
     ]
    }
   ],
   "source": [
    "ls"
   ]
  },
  {
   "source": [
    "<h1>Pregunta-3</h1> "
   ],
   "cell_type": "markdown",
   "metadata": {}
  },
  {
   "cell_type": "code",
   "execution_count": 7,
   "metadata": {},
   "outputs": [
    {
     "output_type": "stream",
     "name": "stdout",
     "text": [
      "If we got 2048 buffer size: \n+----------+---------------+--------------------------------------------+-----------------------------------------------------+\n| Question |  Result Type  |                   Method                   |                        Result                       |\n+----------+---------------+--------------------------------------------+-----------------------------------------------------+\n|    A     |   Procesador  |            platform.processor()            | Intel64 Family 6 Model 165 Stepping 2, GenuineIntel |\n|    B     |    Machine    |             platform.machine()             |                        AMD64                        |\n|    C     |    Release    |             platform.release()             |                          10                         |\n|    D     |    Version    |             platform.version()             |                      10.0.19041                     |\n|    E     |      Node     |              platform.node()               |                   DESKTOP-9E31NLE                   |\n|    F     |     System    |             platform.system()              |                       Windows                       |\n|    G     | Cores físicos |              os.cpu_count()/2              |                         6.0                         |\n|    H     |      Ipv4     | socket.gethostbyname(socket.gethostname()) |                     10.34.86.172                    |\n+----------+---------------+--------------------------------------------+-----------------------------------------------------+\nEany lower: \nuname_result(system='Windows', node='DESKTOP-9E31NLE', release='10', version='10.0.19041', machine='AMD64')\n"
     ]
    }
   ],
   "source": [
    "import os\n",
    "import platform \n",
    "import socket\n",
    "import prettytable as pt\n",
    "\n",
    "def sysInfo():\n",
    "        table = pt.PrettyTable()\n",
    "        table.field_names = [\"Question\", \"Result Type\", \"Method\", \"Result\"]\n",
    "        table.add_rows([\n",
    "            [\"A\", \"Procesador\", \"platform.processor()\", platform.processor()],\n",
    "            [\"B\", \"Machine\", \"platform.machine()\", platform.machine()],\n",
    "            [\"C\", \"Release\", \"platform.release()\", platform.release()],\n",
    "            [\"D\", \"Version\", \"platform.version()\", platform.version()],\n",
    "            [\"E\", \"Node\", \"platform.node()\", platform.node()],\n",
    "            [\"F\", \"System\", \"platform.system()\", platform.system()],\n",
    "            [\"G\", \"Cores físicos\", \"os.cpu_count()/2\", os.cpu_count()/2],\n",
    "            [\"H\", \"Ipv4\", \"socket.gethostbyname(socket.gethostname())\", socket.gethostbyname(\n",
    "                socket.gethostname())],\n",
    "        ])\n",
    "        return table.get_string()\n",
    "\n",
    "print(\"If we got 2048 buffer size: \")  \n",
    "print(sysInfo())\n",
    "print(\"Eany lower: \")\n",
    "print(platform.uname())"
   ]
  },
  {
   "source": [
    "<h1>Pregunta-4</h1> "
   ],
   "cell_type": "markdown",
   "metadata": {}
  },
  {
   "source": [
    "<p style=\"text-align:left;color:#877B9A\">  CON ESTA VARIABLE { self.buffer } CONTROLO EL TAMAÑO DEL BUFFER, DEPENDIENDO DEL TAMAÑO, SE ENVIARÁ DE UNA FORMA U OTRA LA INFORMACIÓN DEL PC</p>\n",
    "<p>----------------</p>\n",
    "<p style=\"text-align:left;color:#877B9A\">  SE HA CREADO UN COMANDO QUE ALTERA EL TAMAÑO DEL BUFFER ENTRE 1024 Y 2048</P>\n",
    "<p>----------------</p>\n",
    "            <p style=\"text-align:left;color:#877B9A\">elif msg ==\"!buffer\":</P>\n",
    "                <p style=\"text-align:left;color:#877B9A\">if self.buffer == 1024:</P>\n",
    "                    <p style=\"text-align:left;color:#877B9A\">self.buffer = 2048</P>\n",
    "                <p style=\"text-align:left;color:#877B9A\">elif self.buffer == 2048:</P>\n",
    "                    <p style=\"text-align:left;color:#877B9A\">self.buffer = 1024</P>\n",
    "<p>----------------</p>\n",
    "\n",
    "<p style=\"text-align:left;color:#877B9A\"> SE APLICA EL MISMO MÉTODO CON EL SERVIDOR, USANDO SU PROPIA VARIABLE self.buffer... si no están ambos cliente y servidor con el tamaño adecuado, podría ocurrir que el cliente envía algo de tamaño 2048 pero el servidor solamente recibe hasta un máximo de 1024 y no printee nada</P>"
   ],
   "cell_type": "markdown",
   "metadata": {}
  },
  {
   "source": [
    "<h1>Pregunta-5</h1> "
   ],
   "cell_type": "markdown",
   "metadata": {}
  },
  {
   "source": [
    "<p style=\"text-align:left;color:#877B9A\"> Este código incluye las modificaciones de la pregunta 4, para el tamaño del búffer </p>"
   ],
   "cell_type": "markdown",
   "metadata": {}
  },
  {
   "cell_type": "code",
   "execution_count": null,
   "metadata": {},
   "outputs": [],
   "source": [
    "import threading\n",
    "import sys\n",
    "import socket\n",
    "import pickle\n",
    "import os\n",
    "import platform\n",
    "import prettytable as pt\n",
    "\n",
    "class Cliente():\n",
    "\n",
    "    def __init__(self, host=input(\"Intoduzca la IP del servidor ?  \"), port=int(input(\"Intoduzca el PUERTO del servidor ?  \"))):\n",
    "        self.s = socket.socket()\n",
    "        \n",
    "        #* CON ESTA VARIABLE CONTROLO EL TAMAÑO DEL BUFFER\n",
    "        self.buffer = 1024 \n",
    "        #* DEPENDIENDO DEL TAMAÑO, SE ENVIARÁ DE UNA FORMA U OTRA LA INFORMACIÓN DEL PC\n",
    "\n",
    "        self.s.connect((host, int(port)))\n",
    "        print('\\n\\tProceso con PID = ',os.getpid(), '\\n\\tHilo PRINCIPAL con ID =',threading.currentThread().getName(), '\\n\\tHilo en modo DAEMON = ', threading.currentThread().isDaemon(),'\\n\\tTotal Hilos activos en este punto del programa =', threading.active_count())\n",
    "        threading.Thread(target=self.recibir, daemon=True).start()\n",
    "\n",
    "\n",
    "        while True:\n",
    "            msg = input('\\nEscriba texto ?   ** Enviar = ENTER   ** Salir Chat = 1  ** Enviar configuracoión  = !sendconfig \\n')\n",
    "            \n",
    "            if msg=='1':\n",
    "                print(\" **** Me piro vampiro; cierro socket y mato al CLIENTE con PID = \", os.getpid())\n",
    "                self.s.close()\n",
    "                sys.exit()\n",
    "            \n",
    "            elif msg=='!sendconfig':\n",
    "                self.enviar(self.sysData())\n",
    "\n",
    "            #* SE HA CREADO UN COMANDO QUE ALTERA EL TAMAÑO DEL BUFFER ENTRE 1024 Y 2048\n",
    "            elif msg ==\"!buffer\":\n",
    "                if self.buffer == 1024:\n",
    "                    self.buffer = 2048\n",
    "                elif self.buffer == 2048:\n",
    "                    self.buffer = 1024\n",
    "                print(\"new buffer size : \" , self.buffer)\n",
    "            \n",
    "            else:\n",
    "                self.enviar(msg)\n",
    "\n",
    "                \n",
    "\n",
    "    def recibir(self):\n",
    "        print('\\nHilo RECIBIR con ID =',threading.currentThread().getName(), '\\n\\tPertenece al PROCESO con PID', os.getpid(), \"\\n\\tHilos activos TOTALES \", threading.active_count())\n",
    "        while True:\n",
    "            try:\n",
    "                data = self.s.recv(self.buffer)\n",
    "                if data: print(pickle.loads(data))\n",
    "            except: pass\n",
    "\n",
    "    def enviar(self, msg):\n",
    "        self.s.send(pickle.dumps(msg))\n",
    "\n",
    "\n",
    "\n",
    "    def sysData(self):\n",
    "        if self.buffer >= 2048: \n",
    "            return self.sysInfo()\n",
    "        else:\n",
    "            return str(platform.uname())\n",
    "            \n",
    "    def sysInfo(self):\n",
    "        table = pt.PrettyTable()\n",
    "        table.field_names = [\"Question\", \"Result Type\", \"Method\", \"Result\"]\n",
    "        table.add_rows([\n",
    "            [\"A\", \"Procesador\", \"platform.processor()\", platform.processor()],\n",
    "            [\"B\", \"Machine\", \"platform.machine()\", platform.machine()],\n",
    "            [\"C\", \"Release\", \"platform.release()\", platform.release()],\n",
    "            [\"D\", \"Version\", \"platform.version()\", platform.version()],\n",
    "            [\"E\", \"Node\", \"platform.node()\", platform.node()],\n",
    "            [\"F\", \"System\", \"platform.system()\", platform.system()],\n",
    "            [\"G\", \"Cores físicos\", \"os.cpu_count()/2\", os.cpu_count()/2],\n",
    "            [\"H\", \"Ipv4\", \"socket.gethostbyname(socket.gethostname())\", socket.gethostbyname(\n",
    "                socket.gethostname())],\n",
    "        ])\n",
    "        return table.get_string()\n",
    "\n",
    "\n",
    "\n",
    "\n",
    "arrancar = Cliente()\n",
    "\n",
    "        "
   ]
  },
  {
   "cell_type": "code",
   "execution_count": null,
   "metadata": {},
   "outputs": [],
   "source": [
    "import socket\n",
    "import threading\n",
    "import sys\n",
    "import pickle\n",
    "import os\n",
    "\n",
    "class Servidor():\n",
    "\n",
    "    def __init__(self, host=socket.gethostname(), port=int(input(\"Que puerto quiere usar ? \"))):\n",
    "        self.clientes = []\n",
    "        self.buffer = 2048\n",
    "        print('\\nSu IP actual es : ',socket.gethostbyname(host))\n",
    "        print('\\n\\tProceso con PID = ',os.getpid(), '\\n\\tHilo PRINCIPAL con ID =',threading.currentThread().getName(), '\\n\\tHilo en modo DAEMON = ', threading.currentThread().isDaemon(), '\\n\\tTotal Hilos activos en este punto del programa =', threading.active_count())\n",
    "        self.s = socket.socket()\n",
    "        self.s.bind((str(host), int(port)))\n",
    "        self.s.listen(30)\n",
    "        self.s.setblocking(False)\n",
    "\n",
    "        threading.Thread(target=self.aceptarC, daemon=True).start()\n",
    "        threading.Thread(target=self.procesarC, daemon=True).start()\n",
    "\n",
    "        while True:\n",
    "            msg = input('\\n << SALIR = 1 >> \\n')\n",
    "            if msg == '1':\n",
    "                print(\" **** Me piro vampiro; cierro socket y mato SERVER con PID = \", os.getpid())\n",
    "                self.s.close()\n",
    "                sys.exit()\n",
    "            else: pass\n",
    "\n",
    "    def aceptarC(self):\n",
    "        print('\\nHilo ACEPTAR con ID =',threading.currentThread().getName(), '\\n\\tHilo en modo DAEMON = ', threading.currentThread().isDaemon(),'\\n\\tPertenece al PROCESO con PID', os.getpid(), \"\\n\\tHilos activos TOTALES \", threading.active_count())\n",
    "        \n",
    "        while True:\n",
    "            try:\n",
    "                conn, addr = self.s.accept()\n",
    "                print(f\"\\nConexion aceptada via {addr}\\n\")\n",
    "                conn.setblocking(False)\n",
    "                self.clientes.append(conn)\n",
    "            except: pass\n",
    "\n",
    "    def procesarC(self):\n",
    "        print('\\nHilo PROCESAR con ID =',threading.currentThread().getName(), '\\n\\tHilo en modo DAEMON = ', threading.currentThread().isDaemon(),'\\n\\tPertenece al PROCESO con PID', os.getpid(), \"\\n\\tHilos activos TOTALES \", threading.active_count())\n",
    "        while True:\n",
    "            if len(self.clientes) > 0:\n",
    "                for c in self.clientes:\n",
    "                    try:\n",
    "                        data = c.recv(self.buffer)\n",
    "                        print(\"PRE\",data)\n",
    "                        if data:\n",
    "                            print(\"there is data\") \n",
    "                            self.broadcast(data,c)\n",
    "                    except: pass\n",
    "\n",
    "    def broadcast(self, msg, cliente):\n",
    "        for c in self.clientes:\n",
    "            print(\"Clientes conectados Right now = \", len(self.clientes))\n",
    "            sender = pickle.loads(msg)\n",
    "            print(sender)\n",
    "            c.send(sender)\n",
    "            \n",
    "\n",
    "arrancar = Servidor() "
   ]
  },
  {
   "source": [
    "<h1>Pregunta-6</h1> "
   ],
   "cell_type": "markdown",
   "metadata": {}
  },
  {
   "cell_type": "code",
   "execution_count": 13,
   "metadata": {},
   "outputs": [
    {
     "output_type": "stream",
     "name": "stderr",
     "text": [
      "Cloning into 'Programacion-concurrente'...\n"
     ]
    }
   ],
   "source": [
    "!git clone https://github.com/somozadev/Programacion-concurrente.git"
   ]
  },
  {
   "cell_type": "code",
   "execution_count": 26,
   "metadata": {},
   "outputs": [
    {
     "output_type": "stream",
     "name": "stdout",
     "text": [
      " El volumen de la unidad C no tiene etiqueta.\n El n�mero de serie del volumen es: 60F7-0D91\n\n Directorio de c:\\Users\\mesom\\OneDrive\\Escritorio\\examen\\chat_using_sockets\\Programacion-concurrente\n\n28/04/2021  16:32    <DIR>          .\n28/04/2021  16:32    <DIR>          ..\n28/04/2021  16:32    <DIR>          .ipynb_checkpoints\n28/04/2021  16:32    <DIR>          .vscode\n28/04/2021  16:32    <DIR>          ACTIVIDAD_AI1\n28/04/2021  16:32    <DIR>          ACTIVIDAD_AI2\n28/04/2021  16:32    <DIR>          ACTIVIDAD_AI4\n28/04/2021  16:32    <DIR>          ATTACK\n28/04/2021  16:32    <DIR>          CHAT\n28/04/2021  16:32    <DIR>          FIBO\n28/04/2021  16:32    <DIR>          GENOMA\n28/04/2021  16:32    <DIR>          PRUEBA_EXAMEN_PRACTICO\n28/04/2021  16:32    <DIR>          xx_basura\n               0 archivos              0 bytes\n              13 dirs  240.311.496.704 bytes libres\n"
     ]
    }
   ],
   "source": [
    "ls"
   ]
  },
  {
   "source": [
    "<h1>Pregunta-7</h1> "
   ],
   "cell_type": "markdown",
   "metadata": {}
  },
  {
   "cell_type": "code",
   "execution_count": 43,
   "metadata": {},
   "outputs": [
    {
     "output_type": "stream",
     "name": "stdout",
     "text": [
      "si ves esto esd que has hecho bien este punto\n\n1 https://eburnout.com/#us\n2 https://www.kaggle.com/sukuzhanay\n3 https://www.kaggle.com/sukuzhanay/discussion\n4 https://google.qwiklabs.com/public_profiles/c094dd66-f266-4f77-a808-a0601b187009\n5 https://developers.google.com/profile/u/113900657330137227361\n6 https://anaconda.org/sukuzhanay\n7 https://stackoverflow.com/users/6025932/christian-vladimir-sucuzhanay\n8 https://github.com/sukuzhanay\n9 https://www.unicoos.com/testimonios/page:29\n10 https://rpubs.com/christian_sucuzhanay/701561\n11 https://rpubs.com/christian_sucuzhanay/estaciones\n12 https://g.page/r/CYwda-YNE08qEAE\n13 https://appadvice.com/app/eburnout/1387560959\n14 https://stackoverflow.com/story/christian-sucuzhanay-arevalo\n15 https://christianvladimirsucuzhanay.wordpress.com/2016/01/27/como-hablar-en-publico/comment-page-1/\n16 https://sites.google.com/view/www-tengounokupa-com/home\n17 https://www.youtube.com/channel/UCEXbXdeafAjBahYK2hoQJFg\n\n"
     ]
    }
   ],
   "source": [
    "import requests\n",
    "test = requests.get('https://storage.googleapis.com/examenparcial/cris.txt').text\n",
    "print(test)"
   ]
  },
  {
   "source": [
    "<h1>Pregunta-8, 9 , 10</h1> "
   ],
   "cell_type": "markdown",
   "metadata": {}
  },
  {
   "cell_type": "code",
   "execution_count": 10,
   "metadata": {},
   "outputs": [
    {
     "output_type": "stream",
     "name": "stdout",
     "text": [
      "10 attacks to https://eburnout.com/#us:\n",
      "<Response [200]>\n",
      "30 attacks to https://anaconda.org/sukuzhanay:\n",
      "<Response [200]>\n",
      "5 attacks to https://appadvice.com/app/eburnout/1387560959:\n",
      "<Response [200]>\n",
      "50 attacks to https://www.youtube.com/channel/UCEXbXdeafAjBahYK2hoQJFg:\n",
      "<Response [200]>\n",
      "\n",
      " FORMAL_RESPONSES \n",
      "\n",
      "https://eburnout.com/#us 200: Success!\n",
      "https://anaconda.org/sukuzhanay 200: Success!\n",
      "https://appadvice.com/app/eburnout/1387560959 200: Success!\n",
      "https://www.youtube.com/channel/UCEXbXdeafAjBahYK2hoQJFg 200: Success!\n"
     ]
    }
   ],
   "source": [
    "import threading\n",
    "import requests\n",
    "\n",
    "class Attack():\n",
    "    def __init__(self):\n",
    "        self.url1 = 'https://eburnout.com/#us'\n",
    "        self.url2 = 'https://anaconda.org/sukuzhanay'\n",
    "        self.url3 = 'https://appadvice.com/app/eburnout/1387560959'\n",
    "        self.url4 = 'https://www.youtube.com/channel/UCEXbXdeafAjBahYK2hoQJFg'\n",
    "\n",
    "        self.r1 = \"\"\n",
    "        self.r2 = \"\"\n",
    "        self.r3 = \"\"\n",
    "        self.r4 = \"\"\n",
    "\n",
    "    def Send(self, url):\n",
    "        ataque = requests.get(url)\n",
    "        ataque\n",
    "\n",
    "    def MakeAttack(self, number, url):\n",
    "        for _ in range(number):\n",
    "            threading.Thread(target=self.Send, args= [url,]).start()\n",
    "        if url == self.url1:\n",
    "            self.r1 = str(requests.get(url))\n",
    "        if url == self.url2:\n",
    "            self.r2 = str(requests.get(url))\n",
    "        if url == self.url3:\n",
    "            self.r3 = str(requests.get(url))\n",
    "        if url == self.url4:\n",
    "            self.r4 = str(requests.get(url))\n",
    "        print(requests.get(url))\n",
    "    \n",
    "    def CheckResponse(self, r):\n",
    "        r = r.replace('<Response [', '')\n",
    "        r = r.replace(']>', '')\n",
    "        if r == '429':\n",
    "            return\"492: Too many requests\"\n",
    "        elif r == '408':\n",
    "            return\"408: Request timeout\"\n",
    "        elif r == '404':\n",
    "            return\"404: Not found\"\n",
    "        elif r == '401':\n",
    "            return\"401: Unauthorized\"\n",
    "        elif r == '407':\n",
    "            return \"407: Proxy auth required\"\n",
    "        elif r == '403':\n",
    "            return\"403: Forbidden\"\n",
    "        elif r == '504':\n",
    "            return\"504: Gateway timeout\"\n",
    "        elif r == '500':\n",
    "            return\"500: Internal server error\"\n",
    "        elif r == '200':\n",
    "            return\"200: Success!\"\n",
    "        else:\n",
    "            return \"UNKNOWN\"\n",
    "\n",
    "\n",
    "\n",
    "if __name__ == '__main__':\n",
    "\n",
    "    att = Attack()\n",
    "\n",
    "    print(f\"{10} attacks to {att.url1}:\")\n",
    "    r1 = att.MakeAttack(10,att.url1)\n",
    "    print(f\"{30} attacks to {att.url2}:\")\n",
    "    r2 = att.MakeAttack(30,att.url2)\n",
    "    print(f\"{5} attacks to {att.url3}:\")\n",
    "    r3 = att.MakeAttack(5,att.url3)\n",
    "    print(f\"{50} attacks to {att.url4}:\")\n",
    "    r4 = att.MakeAttack(50,att.url4)\n",
    "    \n",
    "    print(\"\\n\",\"FORMAL_RESPONSES\",\"\\n\")\n",
    "    print(att.url1,att.CheckResponse(att.r1))\n",
    "    print(att.url2,att.CheckResponse(att.r2))\n",
    "    print(att.url3,att.CheckResponse(att.r3))\n",
    "    print(att.url4,att.CheckResponse(att.r4))\n"
   ]
  },
  {
   "cell_type": "code",
   "execution_count": null,
   "metadata": {},
   "outputs": [],
   "source": [
    "!git commit \"Examen práctico 28/04/2021\""
   ]
  }
 ]
}