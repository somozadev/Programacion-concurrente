{
 "metadata": {
  "language_info": {
   "codemirror_mode": {
    "name": "ipython",
    "version": 3
   },
   "file_extension": ".py",
   "mimetype": "text/x-python",
   "name": "python",
   "nbconvert_exporter": "python",
   "pygments_lexer": "ipython3",
   "version": "3.9.1-final"
  },
  "orig_nbformat": 2,
  "kernelspec": {
   "name": "python3",
   "display_name": "Python 3.9.1 64-bit",
   "metadata": {
    "interpreter": {
     "hash": "9afd1c93655643a3515b9ec374dd027d2e4aa47448a883b69ea119c252b3b45f"
    }
   }
  }
 },
 "nbformat": 4,
 "nbformat_minor": 2,
 "cells": [
  {
   "source": [
    "<h1 style = \"text-align:center\">Programación Concurrente y Distribuida </h1>\n",
    "<a href=\"https://github.com/somozadev\">\n",
    "<img src=\"MARCOS_SOMOZA.jfif\" title = \"Marcos Eladio Somoza Corral 21711787\" alt=\"Marcos Eladio Somoza Corral\" width=\"100\" height=\"100\" style=\"float:left;vertical-alig:middle\">\n",
    "<img src=\"UEM.png\" title= \"M21\"alt=\"UE\" width=\"105\" heighºt=\"105\" style=\"float:right;vertical-alig:middle\">"
   ],
   "cell_type": "markdown",
   "metadata": {}
  },
  {
   "source": [
    "<h1 style = \"text-align:center; color:#433789\">CHAT CORONAVIRUS</h1>"
   ],
   "cell_type": "markdown",
   "metadata": {}
  },
  {
   "cell_type": "code",
   "execution_count": 11,
   "metadata": {},
   "outputs": [],
   "source": [
    "import socket\n",
    "import threading\n",
    "import sys\n",
    "import pickle\n",
    "import os\n"
   ]
  },
  {
   "source": [
    "<h3 style = \"text-align:center; color:#433789\">Clase Servidor</h3>"
   ],
   "cell_type": "markdown",
   "metadata": {}
  },
  {
   "cell_type": "code",
   "execution_count": 14,
   "metadata": {},
   "outputs": [
    {
     "output_type": "stream",
     "name": "stdout",
     "text": [
      "Tu ip es: 10.34.82.33\n",
      "Hilo: MainThread\n",
      "Proceso PID: 13196\n",
      "Daemon: False\n",
      "\n",
      "Hilo: Tornado selector\n",
      "Proceso PID: 13196\n",
      "Daemon: True\n",
      "\n",
      "Hilo: Thread-2\n",
      "Proceso PID: 13196\n",
      "Daemon: True\n",
      "\n",
      "Hilo: Thread-3\n",
      "Proceso PID: 13196\n",
      "Daemon: True\n",
      "\n",
      "Hilo: Tornado selector\n",
      "Proceso PID: 13196\n",
      "Daemon: True\n",
      "\n",
      "Hilo: IPythonHistorySavingThread\n",
      "Proceso PID: 13196\n",
      "Daemon: True\n",
      "\n",
      "Hilo: Thread-1\n",
      "Proceso PID: 13196\n",
      "Daemon: True\n",
      "\n",
      "Hilo: pydevd.Writer\n",
      "Proceso PID: 13196\n",
      "Daemon: True\n",
      "\n",
      "Hilo: pydevd.Reader\n",
      "Proceso PID: 13196\n",
      "Daemon: True\n",
      "\n",
      "Hilo: pydevd.CommandThread\n",
      "Proceso PID: 13196\n",
      "Daemon: True\n",
      "\n",
      "Hilo: Thread-8\n",
      "Proceso PID: 13196\n",
      "Daemon: True\n",
      "\n",
      "Hilo: pydevd.CheckAliveThread\n",
      "Proceso PID: 13196\n",
      "Daemon: False\n",
      "\n",
      "Hilo: Thread-10\n",
      "Proceso PID: 13196\n",
      "Daemon: True\n",
      "\n",
      "Hilo: Thread-11\n",
      "Proceso PID: 13196\n",
      "Daemon: True\n",
      "\n",
      "Hilo: Thread-12\n",
      "Proceso PID: 13196\n",
      "Daemon: True\n",
      "\n",
      "Hilo: Thread-13\n",
      "Proceso PID: 13196\n",
      "Daemon: True\n",
      "\n",
      "Hilos totales: 15\n",
      "**** SERVER CLOSED *****\n"
     ]
    },
    {
     "output_type": "error",
     "ename": "SystemExit",
     "evalue": "",
     "traceback": [
      "An exception has occurred, use %tb to see the full traceback.\n",
      "\u001b[1;31mSystemExit\u001b[0m\n"
     ]
    }
   ],
   "source": [
    "class Servidor():\n",
    "\tdef __init__(self, host=socket.gethostname(), port = input(\"Escribe el puerto: \")):\n",
    "\t\tself.clientes = []\n",
    "\t\tself.mensajes = []\n",
    "\t\tprint(\"Tu ip es: \" + socket.gethostbyname(host))\n",
    "\t\tself.sock = socket.socket()\n",
    "\t\tself.sock.bind((str(host), int(port)))\n",
    "\t\tself.sock.listen(20)\n",
    "\t\tself.sock.setblocking(False)\n",
    "\n",
    "\t\taceptar = threading.Thread(target=self.aceptarC)\n",
    "\t\tprocesar = threading.Thread(target=self.procesarC)\n",
    "\n",
    "\n",
    "\t\taceptar.daemon = True\n",
    "\t\taceptar.start()\n",
    "\n",
    "\t\tprocesar.daemon = True\n",
    "\t\tprocesar.start()\n",
    "\n",
    "\t\t\n",
    "\t\tfor thread in threading.enumerate():\n",
    "\t\t\tprint(\"Hilo: \" + thread.name + \"\\n\" + \"Proceso PID: \"+ str(os.getpid()) + \"\\n\" + \"Daemon: \" + str(thread.daemon) +  \"\\n\")\n",
    "\t\tprint(\"Hilos totales: \" + str(threading.activeCount()-1))\n",
    "\n",
    "\t\twhile True:\n",
    "\t\t\tmsg = input('SALIR = Q\\n')\n",
    "\t\t\tif msg == 'Q':\n",
    "\t\t\t\tprint(\"**** SERVER CLOSED *****\")\n",
    "\t\t\t\tself.sock.close()\n",
    "\t\t\t\tsys.exit()\n",
    "\t\t\telse:\n",
    "\t\t\t\tpass\t\t\t\t\n",
    "\n",
    "\tdef broadcast(self, msg, cliente):\n",
    "\t\tself.mensajes.append(pickle.loads(msg))\n",
    "\t\tprint(\"Los mensajes totales: \" + str(self.mensajes))\n",
    "\t\t\n",
    "\t\tfor c in self.clientes:\n",
    "\t\t\ttry:\n",
    "\t\t\t\tif c != cliente:\n",
    "\t\t\t\t\tc.send(msg)\n",
    "\t\t\texcept:\n",
    "\t\t\t\tself.clientes.remove(c)\n",
    "\n",
    "\tdef aceptarC(self):\n",
    "\t\twhile True:\n",
    "\t\t\ttry:\n",
    "\t\t\t\tconn, addr = self.sock.accept()\n",
    "\t\t\t\tprint(f\"\\nConexion aceptada via {conn}\\n\")\n",
    "\t\t\t\tconn.setblocking(False)\n",
    "\t\t\t\tself.clientes.append(conn)\n",
    "\t\t\t\tfor client in self.clientes: \n",
    "\t\t\t\t\tdata = pickle.dumps(client.username + 'connected')\n",
    "\t\t\t\t\tself.broadcast(data,c);  \n",
    "\t\t\texcept:\n",
    "\t\t\t\tpass\n",
    "\n",
    "\tdef procesarC(self):\n",
    "\t\t\n",
    "\t\twhile True:\n",
    "\t\t\tif len(self.clientes) > 0:\n",
    "\t\t\t\tfor c in self.clientes:\n",
    "\t\t\t\t\ttry:\n",
    "\t\t\t\t\t\tdata = c.recv(1024)\n",
    "\t\t\t\t\t\tif data:\n",
    "\t\t\t\t\t\t\tself.broadcast(data,c)\n",
    "\t\t\t\t\texcept:\n",
    "\t\t\t\t\t\tpass\n",
    "\t\n",
    "s = Servidor()"
   ]
  },
  {
   "source": [
    "<h3 style = \"text-align:center; color:#433789\">Clase Cliente</h3>"
   ],
   "cell_type": "markdown",
   "metadata": {}
  },
  {
   "cell_type": "code",
   "execution_count": null,
   "metadata": {},
   "outputs": [],
   "source": [
    "\n",
    "class Cliente():\n",
    "\n",
    "\t\n",
    "\tdef __init__(self, host= input(\"Escriba la IP: \"), port= input(\"Escriba el puerto: \")):\n",
    "\t\tself.sock = socket.socket()\n",
    "\t\tusername = input('Username: ')\n",
    "\t\tself.sock.connect((str(host), int(port)))\n",
    "\t\thilo_recv_mensaje = threading.Thread(target=self.recibir)\n",
    "\t\thilo_recv_mensaje.daemon = True\n",
    "\t\thilo_recv_mensaje.start()\n",
    "\t\t\n",
    "\t\tfor thread in threading.enumerate():\n",
    "\t\t\tprint(\"Hilo: \" + thread.name + \"\\n\" + \"Proceso PID: \"+ str(os.getpid()) + \"\\n\" + \"Daemon: \" + str(thread.daemon) +  \"\\n\")\n",
    "\t\tprint(\"Hilos totales: \" + str(threading.activeCount()-1))\n",
    "\n",
    "\t\tself.enviar(\"<\" + username + \"> se ha conectado\")\n",
    "\t\twhile True:\n",
    "\t\t\tmsg = input(\"\\n>>\\n\")\n",
    "\t\t\tif msg != 'Q' :\n",
    "\t\t\t\tself.enviar(username + \": \" + msg)\n",
    "\t\t\telse:\n",
    "\t\t\t\tprint(\" ****LOGOUT****\")\n",
    "\t\t\t\tself.sock.close()\n",
    "\t\t\t\tsys.exit()\n",
    "\n",
    "\tdef recibir(self):\n",
    "\t\twhile True:\n",
    "\t\t\ttry:\n",
    "\t\t\t\tdata = self.sock.recv(1024)\n",
    "\t\t\t\tif data:\n",
    "\t\t\t\t\tprint(pickle.loads(data))\n",
    "\t\t\texcept:\n",
    "\t\t\t\tpass\n",
    "\n",
    "\tdef enviar(self, msg):\n",
    "\t\tself.sock.send(pickle.dumps(msg))\n",
    "\t\tdata = pickle.dumps(msg)\n",
    "\t\tif data: \n",
    "\t\t\tprint(pickle.loads(data))\n",
    "c = Cliente()\n",
    "\n",
    "\t\t"
   ]
  },
  {
   "source": [
    "<p style = \"text-align:center; color:#433789\">Hay un problema al ejecutar esto en jupyter... no te permite mantener el cliente y el servidor ejecutandose a la vez, y pidiendo input cada uno de manera continua por consiguiente</p>"
   ],
   "cell_type": "markdown",
   "metadata": {}
  }
 ]
}