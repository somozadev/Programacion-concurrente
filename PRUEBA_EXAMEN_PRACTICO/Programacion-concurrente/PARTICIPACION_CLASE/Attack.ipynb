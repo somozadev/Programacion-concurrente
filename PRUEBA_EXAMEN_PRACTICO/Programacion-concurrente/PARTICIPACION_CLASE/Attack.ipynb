{
 "cells": [
  {
   "cell_type": "markdown",
   "metadata": {},
   "source": [
    "<h1 style = \"text-align:left; color:#433789\">1. Crear plantilla y portada para todos los ejercicios que realizaremos a lo largo del curso.</h1>"
   ]
  },
  {
   "cell_type": "markdown",
   "metadata": {
    "scrolled": false
   },
   "source": [
    "<h1 style = \"text-align:center\">Programación Concurrente y Distribuida </h1>\n",
    "<a href=\"https://github.com/somozadev\">\n",
    "<img src=\"MARCOS_SOMOZA.jfif\" title = \"Marcos Eladio Somoza Corral 21711787\" alt=\"Marcos Eladio Somoza Corral\" width=\"100\" height=\"100\" style=\"float:left;vertical-alig:middle\">\n",
    "<img src=\"UEM.png\" title= \"M21\"alt=\"UE\" width=\"105\" heighºt=\"105\" style=\"float:right;vertical-alig:middle\">"
   ]
  },
  {
   "cell_type": "markdown",
   "metadata": {},
   "source": [
    "<h1 style = \"text-align:left; color:#433789\">2.Cree un programa para determinar</h1>"
   ]
  },
  {
   "cell_type": "code",
   "execution_count": 5,
   "metadata": {},
   "outputs": [],
   "source": [
    "import os"
   ]
  },
  {
   "cell_type": "code",
   "execution_count": 4,
   "metadata": {
    "scrolled": true
   },
   "outputs": [],
   "source": [
    "import threading"
   ]
  },
  {
   "cell_type": "code",
   "execution_count": 19,
   "metadata": {},
   "outputs": [],
   "source": [
    "def cpu():\n",
    "    while True:\n",
    "        pass"
   ]
  },
  {
   "cell_type": "markdown",
   "metadata": {},
   "source": [
    "<h3 style = \"text-align:left; color:SlateBlue;\"> a)El número de proceso que lo maneja y cuántos procesos están activos</h3>"
   ]
  },
  {
   "cell_type": "code",
   "execution_count": 64,
   "metadata": {},
   "outputs": [
    {
     "output_type": "stream",
     "name": "stdout",
     "text": [
      "El proceso que está manejando este programa es:  20232\nHilos lanzados 13\n"
     ]
    }
   ],
   "source": [
    "print(\"El proceso que está manejando este programa es: \", os.getpid())\n",
    "print(\"Hilos lanzados\", threading.activeCount())"
   ]
  },
  {
   "cell_type": "markdown",
   "metadata": {},
   "source": [
    "<h3 style = \"text-align:left; color:SlateBlue;\"> b)¿Cuántos hilos activos tienen lanzados en este momento?</h3>"
   ]
  },
  {
   "source": [
    "<img src=\"resource.jfif\" title = \"Marcos Eladio Somoza Corral 21711787\" alt=\"Marcos Eladio Somoza Corral\" style=\"float:left;vertical-alig:middle\">\n",
    "<p style=\"text-align:left;color:#877B9A\"> Vemos que hay 19 , no tiene que ver con los 13 mostrados por código... Esto se debe a que en el task manager nos muestran los hilos de el programa como lo los de jupyter o vscode.</p>\n"
   ],
   "cell_type": "markdown",
   "metadata": {}
  },
  {
   "cell_type": "markdown",
   "metadata": {},
   "source": [
    "<h3 style = \"text-align:left; color:SlateBlue;\"> c)¿Cuántos cores lógicos tiene su equipo?</h3>"
   ]
  },
  {
   "cell_type": "code",
   "execution_count": 22,
   "metadata": {},
   "outputs": [
    {
     "name": "stdout",
     "output_type": "stream",
     "text": [
      "Este equipo tiene un total de 20 núcleos lógicos\n"
     ]
    }
   ],
   "source": [
    "print(\"Este equipo tiene un total de\",os.cpu_count(), \"núcleos lógicos\")"
   ]
  },
  {
   "cell_type": "markdown",
   "metadata": {},
   "source": [
    "<h3 style = \"text-align:left; color:SlateBlue;\"> d)¿Cuántos cores físicos tiene su equipo?</h3>"
   ]
  },
  {
   "source": [
    "print(\"Este equipo tiene un total de\",int(os.cpu_count()/2), \"núcleos físicos\")"
   ],
   "cell_type": "code",
   "metadata": {},
   "execution_count": 1,
   "outputs": [
    {
     "output_type": "stream",
     "name": "stdout",
     "text": [
      "Este equipo tiene un total de 6 núcleos físicos\n"
     ]
    }
   ]
  },
  {
   "cell_type": "markdown",
   "metadata": {},
   "source": [
    "<p style=\"text-align:left;color:#877B9A\">Si vemos las propiedades del equipo vemos que \n",
    "tenemos un Intel(R) Core(TM) i9-10850k @ 3.60GHz de 10 núcleos físicos. Para ver los cores físicos se debe dividir entre 2 el resultado de os.cpu_count() dado que muestra también los hyperthreaded cores, donde cada núcleo se \"divide\" para crear un núcleo virtual extra. Información disponible en:  https://github.com/giampaolo/psutil/issues/427 </p>"
   ]
  },
  {
   "cell_type": "markdown",
   "metadata": {},
   "source": [
    "<h3 style = \"text-align:left; color:SlateBlue;\"> e)Enumere e idenfique los hilos lanzados</h3>"
   ]
  },
  {
   "cell_type": "code",
   "execution_count": 23,
   "metadata": {},
   "outputs": [
    {
     "name": "stdout",
     "output_type": "stream",
     "text": [
      "<_MainThread(MainThread, started 35220)>\n",
      "<Thread(Thread-4, started daemon 27760)>\n",
      "<Heartbeat(Thread-5, started daemon 27624)>\n",
      "<HistorySavingThread(IPythonHistorySavingThread, started 16364)>\n",
      "<ParentPollerWindows(Thread-3, started daemon 9480)>\n"
     ]
    }
   ],
   "source": [
    "for thread in threading.enumerate():\n",
    "    print(thread)"
   ]
  },
  {
   "cell_type": "markdown",
   "metadata": {},
   "source": [
    "<p style=\"text-align:left;color:#675B7B\"> <b style = color:>1.MainThread:</b> se trata del hilo principal de la ejecución. </p>"
   ]
  },
  {
   "cell_type": "markdown",
   "metadata": {},
   "source": [
    "<p style=\"text-align:left;color:#675B7B\"> <b style = color:>2.Daemon:</b> Hilo demonio,a veces los programas generan un hilo como un demonio que se ejecuta sin bloquear el programa principal de salir. El uso de hilos de demonio es útil para servicios donde puede que no haya una manera fácil de interrumpir el hilo, o donde dejar que el el hilo muera en medio de su trabajo, no pierde ni corrompe los datos (por ejemplo, un hilo que genera «latidos del corazón» para una herramienta de monitoreo de servicio).</p>"
   ]
  },
  {
   "cell_type": "markdown",
   "metadata": {},
   "source": [
    "<p style=\"text-align:left;color:#675B7B\"> <b style = color:>3.Heartbeat:</b> Hilo encargado del loop central o heart loop. También marcado como hilo demonio.</p>"
   ]
  },
  {
   "cell_type": "markdown",
   "metadata": {},
   "source": [
    "<p style=\"text-align:left;color:#675B7B\"> <b style = color:>4.HistorySavingThread:</b> de IPhython, se encarga del registro histórico de los hilos.</p>"
   ]
  },
  {
   "cell_type": "markdown",
   "metadata": {},
   "source": [
    "<p style=\"text-align:left;color:#675B7B\"> <b style = color:>5.ParentPollerWindows:</b> Indica que los hilos trabajan en un sistema operativo determinado, windows en este caso. Ejemplo disponible en: https://codesuche.com/python-examples/parentpoller.ParentPollerUnix/ </p>"
   ]
  },
  {
   "cell_type": "markdown",
   "metadata": {},
   "source": [
    "<h1 style = \"text-align:left; color:#433789\">3. Lance un ataque usando 20 hilos a https://github.com/sukuzhanay</h1>"
   ]
  },
  {
   "cell_type": "code",
   "execution_count": 3,
   "metadata": {},
   "outputs": [],
   "source": [
    "import requests"
   ]
  },
  {
   "cell_type": "code",
   "execution_count": 42,
   "metadata": {},
   "outputs": [],
   "source": [
    "def ataque():\n",
    "    ataque = requests.get('https://github.com/sukuzhanay')\n",
    "    ataque"
   ]
  },
  {
   "cell_type": "code",
   "execution_count": 43,
   "metadata": {},
   "outputs": [
    {
     "output_type": "stream",
     "name": "stdout",
     "text": [
      "ataque con 20 hilos\n",
      "<Response [200]>\n"
     ]
    }
   ],
   "source": [
    "print('ataque con 20 hilos')\n",
    "for i in range(20):\n",
    "    threading.Thread(target=ataque).start()\n",
    "print(requests.get('https://github.com/sukuzhanay'))"
   ]
  },
  {
   "cell_type": "markdown",
   "metadata": {},
   "source": [
    "<h1 style = \"text-align:left; color:#433789\">4. Lance un ataque de 30 hilos a https://www.youtube.com/channel/UCEXbXdeafAjBahYK2hoQJFg</h1>"
   ]
  },
  {
   "cell_type": "code",
   "execution_count": 44,
   "metadata": {},
   "outputs": [],
   "source": [
    "def ataque():\n",
    "    ataque = requests.get('https://www.youtube.com/channel/UCEXbXdeafAjBahYK2hoQJFg')\n",
    "    ataque"
   ]
  },
  {
   "cell_type": "code",
   "execution_count": 45,
   "metadata": {},
   "outputs": [
    {
     "output_type": "stream",
     "name": "stdout",
     "text": [
      "ataque con 30 hilos\n",
      "<Response [200]>\n"
     ]
    }
   ],
   "source": [
    "print('ataque con 30 hilos')\n",
    "for i in range(30):\n",
    "    threading.Thread(target=ataque).start()\n",
    "print(requests.get('https://www.youtube.com/channel/UCEXbXdeafAjBahYK2hoQJFg'))"
   ]
  },
  {
   "source": [
    "<h1 style = \"text-align:left; color:#433789\">5. Lance un ataque de 50 hilos a https://rpubs.com/chirstian_sucuzhanay</h1>\n"
   ],
   "cell_type": "markdown",
   "metadata": {}
  },
  {
   "cell_type": "code",
   "execution_count": 46,
   "metadata": {},
   "outputs": [],
   "source": [
    "def ataque():\n",
    "    ataque = requests.get('https://rpubs.com/chirstian_sucuzhanay')\n",
    "    ataque"
   ]
  },
  {
   "cell_type": "code",
   "execution_count": 47,
   "metadata": {},
   "outputs": [
    {
     "output_type": "stream",
     "name": "stdout",
     "text": [
      "ataque con 50 hilos\n",
      "<Response [200]>\n"
     ]
    }
   ],
   "source": [
    "print('ataque con 50 hilos')\n",
    "for i in range(50):\n",
    "    threading.Thread(target=ataque).start()\n",
    "print(requests.get('https://rpubs.com/chirstian_sucuzhanay'))"
   ]
  },
  {
   "source": [
    "<h1 style = \"text-align:left; color:#433789\">6. Lance un ataque de 100 hilos a https://rpubs.com/chirstian_sucuzhanay</h1>"
   ],
   "cell_type": "markdown",
   "metadata": {}
  },
  {
   "cell_type": "code",
   "execution_count": 48,
   "metadata": {},
   "outputs": [],
   "source": [
    "def ataque():\n",
    "    ataque = requests.get('https://rpubs.com/chirstian_sucuzhanay')\n",
    "    ataque"
   ]
  },
  {
   "cell_type": "code",
   "execution_count": 49,
   "metadata": {},
   "outputs": [
    {
     "output_type": "stream",
     "name": "stdout",
     "text": [
      "ataque con 100 hilos\n",
      "<Response [200]>\n"
     ]
    }
   ],
   "source": [
    "print('ataque con 100 hilos')\n",
    "for i in range(100):\n",
    "    threading.Thread(target=ataque).start()\n",
    "print(requests.get('https://rpubs.com/chirstian_sucuzhanay'))"
   ]
  },
  {
   "source": [
    "<h1 style = \"text-align:left; color:#433789\">7. Lance un ataque de 200 hilos a https://kaggle.com/sukuzhanay</h1>"
   ],
   "cell_type": "markdown",
   "metadata": {}
  },
  {
   "cell_type": "code",
   "execution_count": 50,
   "metadata": {},
   "outputs": [],
   "source": [
    "def ataque():\n",
    "    ataque = requests.get('https://kaggle.com/sukuzhanay')\n",
    "    ataque"
   ]
  },
  {
   "cell_type": "code",
   "execution_count": 51,
   "metadata": {},
   "outputs": [
    {
     "output_type": "stream",
     "name": "stdout",
     "text": [
      "ataque con 200 hilos\n",
      "<Response [429]>\n"
     ]
    }
   ],
   "source": [
    "print('ataque con 200 hilos')\n",
    "for i in range(200):\n",
    "    threading.Thread(target=ataque).start()\n",
    "    \n",
    "print(requests.get('https://kaggle.com/sukuzhanay'))"
   ]
  },
  {
   "source": [
    "<h1 style = \"text-align:left; color:#433789\">8. Lance un ataque de 300 hilos a https://stackoverflow.com/story/christian-sucuzhanay-arevalo</h1>"
   ],
   "cell_type": "markdown",
   "metadata": {}
  },
  {
   "cell_type": "code",
   "execution_count": 52,
   "metadata": {},
   "outputs": [],
   "source": [
    "def ataque():\n",
    "    ataque = requests.get('https://stackoverflow.com/story/christian-sucuzhanay-arevalo')\n",
    "    ataque"
   ]
  },
  {
   "cell_type": "code",
   "execution_count": 53,
   "metadata": {
    "tags": []
   },
   "outputs": [
    {
     "output_type": "stream",
     "name": "stdout",
     "text": [
      "ataque con 300 hilos\n",
      "<Response [429]>\n"
     ]
    }
   ],
   "source": [
    "print('ataque con 300 hilos')\n",
    "for i in range(300):\n",
    "    threading.Thread(target=ataque).start()\n",
    "print(requests.get('https://stackoverflow.com/story/christian-sucuzhanay-arevalo'))"
   ]
  },
  {
   "source": [
    "<h1 style = \"text-align:left; color:#433789\">9. Lance un ataque de 400 hilos a https://elburnout.com/</h1>"
   ],
   "cell_type": "markdown",
   "metadata": {}
  },
  {
   "cell_type": "code",
   "execution_count": 18,
   "metadata": {},
   "outputs": [],
   "source": [
    "def ataque():\n",
    "    ataque = requests.get('https://elburnout.com/')\n",
    "    ataque"
   ]
  },
  {
   "cell_type": "code",
   "execution_count": 41,
   "metadata": {
    "tags": []
   },
   "outputs": [
    {
     "output_type": "stream",
     "name": "stdout",
     "text": [
      "ataque con 400 hilos\n"
     ]
    },
    {
     "output_type": "error",
     "ename": "ConnectionError",
     "evalue": "HTTPSConnectionPool(host='elburnout.com', port=443): Max retries exceeded with url: / (Caused by NewConnectionError('<urllib3.connection.HTTPSConnection object at 0x000001EF6E4735E0>: Failed to establish a new connection: [Errno 11001] getaddrinfo failed'))",
     "traceback": [
      "\u001b[1;31m---------------------------------------------------------------------------\u001b[0m",
      "\u001b[1;31mgaierror\u001b[0m                                  Traceback (most recent call last)",
      "\u001b[1;32m~\\AppData\\Local\\Programs\\Python\\Python39\\lib\\site-packages\\urllib3\\connection.py\u001b[0m in \u001b[0;36m_new_conn\u001b[1;34m(self)\u001b[0m\n\u001b[0;32m    168\u001b[0m         \u001b[1;32mtry\u001b[0m\u001b[1;33m:\u001b[0m\u001b[1;33m\u001b[0m\u001b[1;33m\u001b[0m\u001b[0m\n\u001b[1;32m--> 169\u001b[1;33m             conn = connection.create_connection(\n\u001b[0m\u001b[0;32m    170\u001b[0m                 \u001b[1;33m(\u001b[0m\u001b[0mself\u001b[0m\u001b[1;33m.\u001b[0m\u001b[0m_dns_host\u001b[0m\u001b[1;33m,\u001b[0m \u001b[0mself\u001b[0m\u001b[1;33m.\u001b[0m\u001b[0mport\u001b[0m\u001b[1;33m)\u001b[0m\u001b[1;33m,\u001b[0m \u001b[0mself\u001b[0m\u001b[1;33m.\u001b[0m\u001b[0mtimeout\u001b[0m\u001b[1;33m,\u001b[0m \u001b[1;33m**\u001b[0m\u001b[0mextra_kw\u001b[0m\u001b[1;33m\u001b[0m\u001b[1;33m\u001b[0m\u001b[0m\n",
      "\u001b[1;32m~\\AppData\\Local\\Programs\\Python\\Python39\\lib\\site-packages\\urllib3\\util\\connection.py\u001b[0m in \u001b[0;36mcreate_connection\u001b[1;34m(address, timeout, source_address, socket_options)\u001b[0m\n\u001b[0;32m     72\u001b[0m \u001b[1;33m\u001b[0m\u001b[0m\n\u001b[1;32m---> 73\u001b[1;33m     \u001b[1;32mfor\u001b[0m \u001b[0mres\u001b[0m \u001b[1;32min\u001b[0m \u001b[0msocket\u001b[0m\u001b[1;33m.\u001b[0m\u001b[0mgetaddrinfo\u001b[0m\u001b[1;33m(\u001b[0m\u001b[0mhost\u001b[0m\u001b[1;33m,\u001b[0m \u001b[0mport\u001b[0m\u001b[1;33m,\u001b[0m \u001b[0mfamily\u001b[0m\u001b[1;33m,\u001b[0m \u001b[0msocket\u001b[0m\u001b[1;33m.\u001b[0m\u001b[0mSOCK_STREAM\u001b[0m\u001b[1;33m)\u001b[0m\u001b[1;33m:\u001b[0m\u001b[1;33m\u001b[0m\u001b[1;33m\u001b[0m\u001b[0m\n\u001b[0m\u001b[0;32m     74\u001b[0m         \u001b[0maf\u001b[0m\u001b[1;33m,\u001b[0m \u001b[0msocktype\u001b[0m\u001b[1;33m,\u001b[0m \u001b[0mproto\u001b[0m\u001b[1;33m,\u001b[0m \u001b[0mcanonname\u001b[0m\u001b[1;33m,\u001b[0m \u001b[0msa\u001b[0m \u001b[1;33m=\u001b[0m \u001b[0mres\u001b[0m\u001b[1;33m\u001b[0m\u001b[1;33m\u001b[0m\u001b[0m\n",
      "\u001b[1;32m~\\AppData\\Local\\Programs\\Python\\Python39\\lib\\socket.py\u001b[0m in \u001b[0;36mgetaddrinfo\u001b[1;34m(host, port, family, type, proto, flags)\u001b[0m\n\u001b[0;32m    952\u001b[0m     \u001b[0maddrlist\u001b[0m \u001b[1;33m=\u001b[0m \u001b[1;33m[\u001b[0m\u001b[1;33m]\u001b[0m\u001b[1;33m\u001b[0m\u001b[1;33m\u001b[0m\u001b[0m\n\u001b[1;32m--> 953\u001b[1;33m     \u001b[1;32mfor\u001b[0m \u001b[0mres\u001b[0m \u001b[1;32min\u001b[0m \u001b[0m_socket\u001b[0m\u001b[1;33m.\u001b[0m\u001b[0mgetaddrinfo\u001b[0m\u001b[1;33m(\u001b[0m\u001b[0mhost\u001b[0m\u001b[1;33m,\u001b[0m \u001b[0mport\u001b[0m\u001b[1;33m,\u001b[0m \u001b[0mfamily\u001b[0m\u001b[1;33m,\u001b[0m \u001b[0mtype\u001b[0m\u001b[1;33m,\u001b[0m \u001b[0mproto\u001b[0m\u001b[1;33m,\u001b[0m \u001b[0mflags\u001b[0m\u001b[1;33m)\u001b[0m\u001b[1;33m:\u001b[0m\u001b[1;33m\u001b[0m\u001b[1;33m\u001b[0m\u001b[0m\n\u001b[0m\u001b[0;32m    954\u001b[0m         \u001b[0maf\u001b[0m\u001b[1;33m,\u001b[0m \u001b[0msocktype\u001b[0m\u001b[1;33m,\u001b[0m \u001b[0mproto\u001b[0m\u001b[1;33m,\u001b[0m \u001b[0mcanonname\u001b[0m\u001b[1;33m,\u001b[0m \u001b[0msa\u001b[0m \u001b[1;33m=\u001b[0m \u001b[0mres\u001b[0m\u001b[1;33m\u001b[0m\u001b[1;33m\u001b[0m\u001b[0m\n",
      "\u001b[1;31mgaierror\u001b[0m: [Errno 11001] getaddrinfo failed",
      "\nDuring handling of the above exception, another exception occurred:\n",
      "\u001b[1;31mNewConnectionError\u001b[0m                        Traceback (most recent call last)",
      "\u001b[1;32m~\\AppData\\Local\\Programs\\Python\\Python39\\lib\\site-packages\\urllib3\\connectionpool.py\u001b[0m in \u001b[0;36murlopen\u001b[1;34m(self, method, url, body, headers, retries, redirect, assert_same_host, timeout, pool_timeout, release_conn, chunked, body_pos, **response_kw)\u001b[0m\n\u001b[0;32m    698\u001b[0m             \u001b[1;31m# Make the request on the httplib connection object.\u001b[0m\u001b[1;33m\u001b[0m\u001b[1;33m\u001b[0m\u001b[1;33m\u001b[0m\u001b[0m\n\u001b[1;32m--> 699\u001b[1;33m             httplib_response = self._make_request(\n\u001b[0m\u001b[0;32m    700\u001b[0m                 \u001b[0mconn\u001b[0m\u001b[1;33m,\u001b[0m\u001b[1;33m\u001b[0m\u001b[1;33m\u001b[0m\u001b[0m\n",
      "\u001b[1;32m~\\AppData\\Local\\Programs\\Python\\Python39\\lib\\site-packages\\urllib3\\connectionpool.py\u001b[0m in \u001b[0;36m_make_request\u001b[1;34m(self, conn, method, url, timeout, chunked, **httplib_request_kw)\u001b[0m\n\u001b[0;32m    381\u001b[0m         \u001b[1;32mtry\u001b[0m\u001b[1;33m:\u001b[0m\u001b[1;33m\u001b[0m\u001b[1;33m\u001b[0m\u001b[0m\n\u001b[1;32m--> 382\u001b[1;33m             \u001b[0mself\u001b[0m\u001b[1;33m.\u001b[0m\u001b[0m_validate_conn\u001b[0m\u001b[1;33m(\u001b[0m\u001b[0mconn\u001b[0m\u001b[1;33m)\u001b[0m\u001b[1;33m\u001b[0m\u001b[1;33m\u001b[0m\u001b[0m\n\u001b[0m\u001b[0;32m    383\u001b[0m         \u001b[1;32mexcept\u001b[0m \u001b[1;33m(\u001b[0m\u001b[0mSocketTimeout\u001b[0m\u001b[1;33m,\u001b[0m \u001b[0mBaseSSLError\u001b[0m\u001b[1;33m)\u001b[0m \u001b[1;32mas\u001b[0m \u001b[0me\u001b[0m\u001b[1;33m:\u001b[0m\u001b[1;33m\u001b[0m\u001b[1;33m\u001b[0m\u001b[0m\n",
      "\u001b[1;32m~\\AppData\\Local\\Programs\\Python\\Python39\\lib\\site-packages\\urllib3\\connectionpool.py\u001b[0m in \u001b[0;36m_validate_conn\u001b[1;34m(self, conn)\u001b[0m\n\u001b[0;32m   1009\u001b[0m         \u001b[1;32mif\u001b[0m \u001b[1;32mnot\u001b[0m \u001b[0mgetattr\u001b[0m\u001b[1;33m(\u001b[0m\u001b[0mconn\u001b[0m\u001b[1;33m,\u001b[0m \u001b[1;34m\"sock\"\u001b[0m\u001b[1;33m,\u001b[0m \u001b[1;32mNone\u001b[0m\u001b[1;33m)\u001b[0m\u001b[1;33m:\u001b[0m  \u001b[1;31m# AppEngine might not have  `.sock`\u001b[0m\u001b[1;33m\u001b[0m\u001b[1;33m\u001b[0m\u001b[0m\n\u001b[1;32m-> 1010\u001b[1;33m             \u001b[0mconn\u001b[0m\u001b[1;33m.\u001b[0m\u001b[0mconnect\u001b[0m\u001b[1;33m(\u001b[0m\u001b[1;33m)\u001b[0m\u001b[1;33m\u001b[0m\u001b[1;33m\u001b[0m\u001b[0m\n\u001b[0m\u001b[0;32m   1011\u001b[0m \u001b[1;33m\u001b[0m\u001b[0m\n",
      "\u001b[1;32m~\\AppData\\Local\\Programs\\Python\\Python39\\lib\\site-packages\\urllib3\\connection.py\u001b[0m in \u001b[0;36mconnect\u001b[1;34m(self)\u001b[0m\n\u001b[0;32m    352\u001b[0m         \u001b[1;31m# Add certificate verification\u001b[0m\u001b[1;33m\u001b[0m\u001b[1;33m\u001b[0m\u001b[1;33m\u001b[0m\u001b[0m\n\u001b[1;32m--> 353\u001b[1;33m         \u001b[0mconn\u001b[0m \u001b[1;33m=\u001b[0m \u001b[0mself\u001b[0m\u001b[1;33m.\u001b[0m\u001b[0m_new_conn\u001b[0m\u001b[1;33m(\u001b[0m\u001b[1;33m)\u001b[0m\u001b[1;33m\u001b[0m\u001b[1;33m\u001b[0m\u001b[0m\n\u001b[0m\u001b[0;32m    354\u001b[0m         \u001b[0mhostname\u001b[0m \u001b[1;33m=\u001b[0m \u001b[0mself\u001b[0m\u001b[1;33m.\u001b[0m\u001b[0mhost\u001b[0m\u001b[1;33m\u001b[0m\u001b[1;33m\u001b[0m\u001b[0m\n",
      "\u001b[1;32m~\\AppData\\Local\\Programs\\Python\\Python39\\lib\\site-packages\\urllib3\\connection.py\u001b[0m in \u001b[0;36m_new_conn\u001b[1;34m(self)\u001b[0m\n\u001b[0;32m    180\u001b[0m         \u001b[1;32mexcept\u001b[0m \u001b[0mSocketError\u001b[0m \u001b[1;32mas\u001b[0m \u001b[0me\u001b[0m\u001b[1;33m:\u001b[0m\u001b[1;33m\u001b[0m\u001b[1;33m\u001b[0m\u001b[0m\n\u001b[1;32m--> 181\u001b[1;33m             raise NewConnectionError(\n\u001b[0m\u001b[0;32m    182\u001b[0m                 \u001b[0mself\u001b[0m\u001b[1;33m,\u001b[0m \u001b[1;34m\"Failed to establish a new connection: %s\"\u001b[0m \u001b[1;33m%\u001b[0m \u001b[0me\u001b[0m\u001b[1;33m\u001b[0m\u001b[1;33m\u001b[0m\u001b[0m\n",
      "\u001b[1;31mNewConnectionError\u001b[0m: <urllib3.connection.HTTPSConnection object at 0x000001EF6E4735E0>: Failed to establish a new connection: [Errno 11001] getaddrinfo failed",
      "\nDuring handling of the above exception, another exception occurred:\n",
      "\u001b[1;31mMaxRetryError\u001b[0m                             Traceback (most recent call last)",
      "\u001b[1;32m~\\AppData\\Local\\Programs\\Python\\Python39\\lib\\site-packages\\requests\\adapters.py\u001b[0m in \u001b[0;36msend\u001b[1;34m(self, request, stream, timeout, verify, cert, proxies)\u001b[0m\n\u001b[0;32m    438\u001b[0m             \u001b[1;32mif\u001b[0m \u001b[1;32mnot\u001b[0m \u001b[0mchunked\u001b[0m\u001b[1;33m:\u001b[0m\u001b[1;33m\u001b[0m\u001b[1;33m\u001b[0m\u001b[0m\n\u001b[1;32m--> 439\u001b[1;33m                 resp = conn.urlopen(\n\u001b[0m\u001b[0;32m    440\u001b[0m                     \u001b[0mmethod\u001b[0m\u001b[1;33m=\u001b[0m\u001b[0mrequest\u001b[0m\u001b[1;33m.\u001b[0m\u001b[0mmethod\u001b[0m\u001b[1;33m,\u001b[0m\u001b[1;33m\u001b[0m\u001b[1;33m\u001b[0m\u001b[0m\n",
      "\u001b[1;32m~\\AppData\\Local\\Programs\\Python\\Python39\\lib\\site-packages\\urllib3\\connectionpool.py\u001b[0m in \u001b[0;36murlopen\u001b[1;34m(self, method, url, body, headers, retries, redirect, assert_same_host, timeout, pool_timeout, release_conn, chunked, body_pos, **response_kw)\u001b[0m\n\u001b[0;32m    754\u001b[0m \u001b[1;33m\u001b[0m\u001b[0m\n\u001b[1;32m--> 755\u001b[1;33m             retries = retries.increment(\n\u001b[0m\u001b[0;32m    756\u001b[0m                 \u001b[0mmethod\u001b[0m\u001b[1;33m,\u001b[0m \u001b[0murl\u001b[0m\u001b[1;33m,\u001b[0m \u001b[0merror\u001b[0m\u001b[1;33m=\u001b[0m\u001b[0me\u001b[0m\u001b[1;33m,\u001b[0m \u001b[0m_pool\u001b[0m\u001b[1;33m=\u001b[0m\u001b[0mself\u001b[0m\u001b[1;33m,\u001b[0m \u001b[0m_stacktrace\u001b[0m\u001b[1;33m=\u001b[0m\u001b[0msys\u001b[0m\u001b[1;33m.\u001b[0m\u001b[0mexc_info\u001b[0m\u001b[1;33m(\u001b[0m\u001b[1;33m)\u001b[0m\u001b[1;33m[\u001b[0m\u001b[1;36m2\u001b[0m\u001b[1;33m]\u001b[0m\u001b[1;33m\u001b[0m\u001b[1;33m\u001b[0m\u001b[0m\n",
      "\u001b[1;32m~\\AppData\\Local\\Programs\\Python\\Python39\\lib\\site-packages\\urllib3\\util\\retry.py\u001b[0m in \u001b[0;36mincrement\u001b[1;34m(self, method, url, response, error, _pool, _stacktrace)\u001b[0m\n\u001b[0;32m    572\u001b[0m         \u001b[1;32mif\u001b[0m \u001b[0mnew_retry\u001b[0m\u001b[1;33m.\u001b[0m\u001b[0mis_exhausted\u001b[0m\u001b[1;33m(\u001b[0m\u001b[1;33m)\u001b[0m\u001b[1;33m:\u001b[0m\u001b[1;33m\u001b[0m\u001b[1;33m\u001b[0m\u001b[0m\n\u001b[1;32m--> 573\u001b[1;33m             \u001b[1;32mraise\u001b[0m \u001b[0mMaxRetryError\u001b[0m\u001b[1;33m(\u001b[0m\u001b[0m_pool\u001b[0m\u001b[1;33m,\u001b[0m \u001b[0murl\u001b[0m\u001b[1;33m,\u001b[0m \u001b[0merror\u001b[0m \u001b[1;32mor\u001b[0m \u001b[0mResponseError\u001b[0m\u001b[1;33m(\u001b[0m\u001b[0mcause\u001b[0m\u001b[1;33m)\u001b[0m\u001b[1;33m)\u001b[0m\u001b[1;33m\u001b[0m\u001b[1;33m\u001b[0m\u001b[0m\n\u001b[0m\u001b[0;32m    574\u001b[0m \u001b[1;33m\u001b[0m\u001b[0m\n",
      "\u001b[1;31mMaxRetryError\u001b[0m: HTTPSConnectionPool(host='elburnout.com', port=443): Max retries exceeded with url: / (Caused by NewConnectionError('<urllib3.connection.HTTPSConnection object at 0x000001EF6E4735E0>: Failed to establish a new connection: [Errno 11001] getaddrinfo failed'))",
      "\nDuring handling of the above exception, another exception occurred:\n",
      "\u001b[1;31mConnectionError\u001b[0m                           Traceback (most recent call last)",
      "\u001b[1;32m<ipython-input-41-f713efe5713a>\u001b[0m in \u001b[0;36m<module>\u001b[1;34m\u001b[0m\n\u001b[0;32m      2\u001b[0m \u001b[1;32mfor\u001b[0m \u001b[0mi\u001b[0m \u001b[1;32min\u001b[0m \u001b[0mrange\u001b[0m\u001b[1;33m(\u001b[0m\u001b[1;36m400\u001b[0m\u001b[1;33m)\u001b[0m\u001b[1;33m:\u001b[0m\u001b[1;33m\u001b[0m\u001b[1;33m\u001b[0m\u001b[0m\n\u001b[0;32m      3\u001b[0m     \u001b[0mthreading\u001b[0m\u001b[1;33m.\u001b[0m\u001b[0mThread\u001b[0m\u001b[1;33m(\u001b[0m\u001b[0mtarget\u001b[0m\u001b[1;33m=\u001b[0m\u001b[0mataque\u001b[0m\u001b[1;33m)\u001b[0m\u001b[1;33m.\u001b[0m\u001b[0mstart\u001b[0m\u001b[1;33m(\u001b[0m\u001b[1;33m)\u001b[0m\u001b[1;33m\u001b[0m\u001b[1;33m\u001b[0m\u001b[0m\n\u001b[1;32m----> 4\u001b[1;33m \u001b[0mprint\u001b[0m\u001b[1;33m(\u001b[0m\u001b[0mrequests\u001b[0m\u001b[1;33m.\u001b[0m\u001b[0mget\u001b[0m\u001b[1;33m(\u001b[0m\u001b[1;34m'https://elburnout.com/'\u001b[0m\u001b[1;33m)\u001b[0m\u001b[1;33m)\u001b[0m\u001b[1;33m\u001b[0m\u001b[1;33m\u001b[0m\u001b[0m\n\u001b[0m",
      "\u001b[1;32m~\\AppData\\Local\\Programs\\Python\\Python39\\lib\\site-packages\\requests\\api.py\u001b[0m in \u001b[0;36mget\u001b[1;34m(url, params, **kwargs)\u001b[0m\n\u001b[0;32m     74\u001b[0m \u001b[1;33m\u001b[0m\u001b[0m\n\u001b[0;32m     75\u001b[0m     \u001b[0mkwargs\u001b[0m\u001b[1;33m.\u001b[0m\u001b[0msetdefault\u001b[0m\u001b[1;33m(\u001b[0m\u001b[1;34m'allow_redirects'\u001b[0m\u001b[1;33m,\u001b[0m \u001b[1;32mTrue\u001b[0m\u001b[1;33m)\u001b[0m\u001b[1;33m\u001b[0m\u001b[1;33m\u001b[0m\u001b[0m\n\u001b[1;32m---> 76\u001b[1;33m     \u001b[1;32mreturn\u001b[0m \u001b[0mrequest\u001b[0m\u001b[1;33m(\u001b[0m\u001b[1;34m'get'\u001b[0m\u001b[1;33m,\u001b[0m \u001b[0murl\u001b[0m\u001b[1;33m,\u001b[0m \u001b[0mparams\u001b[0m\u001b[1;33m=\u001b[0m\u001b[0mparams\u001b[0m\u001b[1;33m,\u001b[0m \u001b[1;33m**\u001b[0m\u001b[0mkwargs\u001b[0m\u001b[1;33m)\u001b[0m\u001b[1;33m\u001b[0m\u001b[1;33m\u001b[0m\u001b[0m\n\u001b[0m\u001b[0;32m     77\u001b[0m \u001b[1;33m\u001b[0m\u001b[0m\n\u001b[0;32m     78\u001b[0m \u001b[1;33m\u001b[0m\u001b[0m\n",
      "\u001b[1;32m~\\AppData\\Local\\Programs\\Python\\Python39\\lib\\site-packages\\requests\\api.py\u001b[0m in \u001b[0;36mrequest\u001b[1;34m(method, url, **kwargs)\u001b[0m\n\u001b[0;32m     59\u001b[0m     \u001b[1;31m# cases, and look like a memory leak in others.\u001b[0m\u001b[1;33m\u001b[0m\u001b[1;33m\u001b[0m\u001b[1;33m\u001b[0m\u001b[0m\n\u001b[0;32m     60\u001b[0m     \u001b[1;32mwith\u001b[0m \u001b[0msessions\u001b[0m\u001b[1;33m.\u001b[0m\u001b[0mSession\u001b[0m\u001b[1;33m(\u001b[0m\u001b[1;33m)\u001b[0m \u001b[1;32mas\u001b[0m \u001b[0msession\u001b[0m\u001b[1;33m:\u001b[0m\u001b[1;33m\u001b[0m\u001b[1;33m\u001b[0m\u001b[0m\n\u001b[1;32m---> 61\u001b[1;33m         \u001b[1;32mreturn\u001b[0m \u001b[0msession\u001b[0m\u001b[1;33m.\u001b[0m\u001b[0mrequest\u001b[0m\u001b[1;33m(\u001b[0m\u001b[0mmethod\u001b[0m\u001b[1;33m=\u001b[0m\u001b[0mmethod\u001b[0m\u001b[1;33m,\u001b[0m \u001b[0murl\u001b[0m\u001b[1;33m=\u001b[0m\u001b[0murl\u001b[0m\u001b[1;33m,\u001b[0m \u001b[1;33m**\u001b[0m\u001b[0mkwargs\u001b[0m\u001b[1;33m)\u001b[0m\u001b[1;33m\u001b[0m\u001b[1;33m\u001b[0m\u001b[0m\n\u001b[0m\u001b[0;32m     62\u001b[0m \u001b[1;33m\u001b[0m\u001b[0m\n\u001b[0;32m     63\u001b[0m \u001b[1;33m\u001b[0m\u001b[0m\n",
      "\u001b[1;32m~\\AppData\\Local\\Programs\\Python\\Python39\\lib\\site-packages\\requests\\sessions.py\u001b[0m in \u001b[0;36mrequest\u001b[1;34m(self, method, url, params, data, headers, cookies, files, auth, timeout, allow_redirects, proxies, hooks, stream, verify, cert, json)\u001b[0m\n\u001b[0;32m    540\u001b[0m         }\n\u001b[0;32m    541\u001b[0m         \u001b[0msend_kwargs\u001b[0m\u001b[1;33m.\u001b[0m\u001b[0mupdate\u001b[0m\u001b[1;33m(\u001b[0m\u001b[0msettings\u001b[0m\u001b[1;33m)\u001b[0m\u001b[1;33m\u001b[0m\u001b[1;33m\u001b[0m\u001b[0m\n\u001b[1;32m--> 542\u001b[1;33m         \u001b[0mresp\u001b[0m \u001b[1;33m=\u001b[0m \u001b[0mself\u001b[0m\u001b[1;33m.\u001b[0m\u001b[0msend\u001b[0m\u001b[1;33m(\u001b[0m\u001b[0mprep\u001b[0m\u001b[1;33m,\u001b[0m \u001b[1;33m**\u001b[0m\u001b[0msend_kwargs\u001b[0m\u001b[1;33m)\u001b[0m\u001b[1;33m\u001b[0m\u001b[1;33m\u001b[0m\u001b[0m\n\u001b[0m\u001b[0;32m    543\u001b[0m \u001b[1;33m\u001b[0m\u001b[0m\n\u001b[0;32m    544\u001b[0m         \u001b[1;32mreturn\u001b[0m \u001b[0mresp\u001b[0m\u001b[1;33m\u001b[0m\u001b[1;33m\u001b[0m\u001b[0m\n",
      "\u001b[1;32m~\\AppData\\Local\\Programs\\Python\\Python39\\lib\\site-packages\\requests\\sessions.py\u001b[0m in \u001b[0;36msend\u001b[1;34m(self, request, **kwargs)\u001b[0m\n\u001b[0;32m    653\u001b[0m \u001b[1;33m\u001b[0m\u001b[0m\n\u001b[0;32m    654\u001b[0m         \u001b[1;31m# Send the request\u001b[0m\u001b[1;33m\u001b[0m\u001b[1;33m\u001b[0m\u001b[1;33m\u001b[0m\u001b[0m\n\u001b[1;32m--> 655\u001b[1;33m         \u001b[0mr\u001b[0m \u001b[1;33m=\u001b[0m \u001b[0madapter\u001b[0m\u001b[1;33m.\u001b[0m\u001b[0msend\u001b[0m\u001b[1;33m(\u001b[0m\u001b[0mrequest\u001b[0m\u001b[1;33m,\u001b[0m \u001b[1;33m**\u001b[0m\u001b[0mkwargs\u001b[0m\u001b[1;33m)\u001b[0m\u001b[1;33m\u001b[0m\u001b[1;33m\u001b[0m\u001b[0m\n\u001b[0m\u001b[0;32m    656\u001b[0m \u001b[1;33m\u001b[0m\u001b[0m\n\u001b[0;32m    657\u001b[0m         \u001b[1;31m# Total elapsed time of the request (approximately)\u001b[0m\u001b[1;33m\u001b[0m\u001b[1;33m\u001b[0m\u001b[1;33m\u001b[0m\u001b[0m\n",
      "\u001b[1;32m~\\AppData\\Local\\Programs\\Python\\Python39\\lib\\site-packages\\requests\\adapters.py\u001b[0m in \u001b[0;36msend\u001b[1;34m(self, request, stream, timeout, verify, cert, proxies)\u001b[0m\n\u001b[0;32m    514\u001b[0m                 \u001b[1;32mraise\u001b[0m \u001b[0mSSLError\u001b[0m\u001b[1;33m(\u001b[0m\u001b[0me\u001b[0m\u001b[1;33m,\u001b[0m \u001b[0mrequest\u001b[0m\u001b[1;33m=\u001b[0m\u001b[0mrequest\u001b[0m\u001b[1;33m)\u001b[0m\u001b[1;33m\u001b[0m\u001b[1;33m\u001b[0m\u001b[0m\n\u001b[0;32m    515\u001b[0m \u001b[1;33m\u001b[0m\u001b[0m\n\u001b[1;32m--> 516\u001b[1;33m             \u001b[1;32mraise\u001b[0m \u001b[0mConnectionError\u001b[0m\u001b[1;33m(\u001b[0m\u001b[0me\u001b[0m\u001b[1;33m,\u001b[0m \u001b[0mrequest\u001b[0m\u001b[1;33m=\u001b[0m\u001b[0mrequest\u001b[0m\u001b[1;33m)\u001b[0m\u001b[1;33m\u001b[0m\u001b[1;33m\u001b[0m\u001b[0m\n\u001b[0m\u001b[0;32m    517\u001b[0m \u001b[1;33m\u001b[0m\u001b[0m\n\u001b[0;32m    518\u001b[0m         \u001b[1;32mexcept\u001b[0m \u001b[0mClosedPoolError\u001b[0m \u001b[1;32mas\u001b[0m \u001b[0me\u001b[0m\u001b[1;33m:\u001b[0m\u001b[1;33m\u001b[0m\u001b[1;33m\u001b[0m\u001b[0m\n",
      "\u001b[1;31mConnectionError\u001b[0m: HTTPSConnectionPool(host='elburnout.com', port=443): Max retries exceeded with url: / (Caused by NewConnectionError('<urllib3.connection.HTTPSConnection object at 0x000001EF6E4735E0>: Failed to establish a new connection: [Errno 11001] getaddrinfo failed'))"
     ]
    }
   ],
   "source": [
    "print('ataque con 400 hilos')\n",
    "for i in range(400):\n",
    "    threading.Thread(target=ataque).start()\n",
    "print(requests.get('https://elburnout.com/'))"
   ]
  },
  {
   "source": [
    "<h1 style = \"text-align:left; color:#433789\">10. ¿Qué páginas logró tumbar?</h1>"
   ],
   "cell_type": "markdown",
   "metadata": {}
  },
  {
   "source": [
    "<p style=\"text-align:left;color:#675B7B\"> ¡Todas aquellas que no hayan devuelto un \"Request<200>\" se han tumbado! </p>\n",
    "<p style=\"text-align:left;color:#675B7B\"> Cabe destacar que el ataque de 400 hilos a elburnout no se ha podido efectuar correctamente porque la propia página ha detectado que estábamos realizando 400 requests de acceso a su dominio desde la misma ip en muy poco tiempo y ha decidido cortar la conexión.</p>"
   ],
   "cell_type": "markdown",
   "metadata": {}
  },
  {
   "source": [
    "<h1 style = \"text-align:left; color:#433789\">11. Lance un ataque de 20 hilos con el ping de la muerte al equipo de un compañero </h1>"
   ],
   "cell_type": "markdown",
   "metadata": {}
  },
  {
   "cell_type": "code",
   "execution_count": 57,
   "metadata": {},
   "outputs": [
    {
     "output_type": "stream",
     "name": "stdout",
     "text": [
      "ataque con 20 hilos y el pin de la muerte\n",
      "\n",
      "Haciendo ping a DESKTOP-9E31NLE [::1] con 65500 bytes de datos:\n",
      "Respuesta desde ::1: tiempo<1m \n",
      "\n",
      "Estad�sticas de ping para ::1:\n",
      "    Paquetes: enviados = 1, recibidos = 1, perdidos = 0\n",
      "    (0% perdidos),\n",
      "Tiempos aproximados de ida y vuelta en milisegundos:\n",
      "    M�nimo = 0ms, M�ximo = 0ms, Media = 0ms\n",
      "\n",
      "Haciendo ping a DESKTOP-9E31NLE [::1] con 65500 bytes de datos:\n",
      "Respuesta desde ::1: tiempo<1m \n",
      "\n",
      "Estad�sticas de ping para ::1:\n",
      "    Paquetes: enviados = 1, recibidos = 1, perdidos = 0\n",
      "    (0% perdidos),\n",
      "Tiempos aproximados de ida y vuelta en milisegundos:\n",
      "    M�nimo = 0ms, M�ximo = 0ms, Media = 0ms\n",
      "\n",
      "Haciendo ping a DESKTOP-9E31NLE [::1] con 65500 bytes de datos:\n",
      "Respuesta desde ::1: tiempo<1m \n",
      "\n",
      "Estad�sticas de ping para ::1:\n",
      "    Paquetes: enviados = 1, recibidos = 1, perdidos = 0\n",
      "    (0% perdidos),\n",
      "Tiempos aproximados de ida y vuelta en milisegundos:\n",
      "    M�nimo = 0ms, M�ximo = 0ms, Media = 0ms\n",
      "\n",
      "Haciendo ping a DESKTOP-9E31NLE [::1] con 65500 bytes de datos:\n",
      "Respuesta desde ::1: tiempo<1m \n",
      "\n",
      "Estad�sticas de ping para ::1:\n",
      "    Paquetes: enviados = 1, recibidos = 1, perdidos = 0\n",
      "    (0% perdidos),\n",
      "Tiempos aproximados de ida y vuelta en milisegundos:\n",
      "    M�nimo = 0ms, M�ximo = 0ms, Media = 0ms\n",
      "\n",
      "Haciendo ping a DESKTOP-9E31NLE [::1] con 65500 bytes de datos:\n",
      "Respuesta desde ::1: tiempo<1m \n",
      "\n",
      "Estad�sticas de ping para ::1:\n",
      "    Paquetes: enviados = 1, recibidos = 1, perdidos = 0\n",
      "    (0% perdidos),\n",
      "Tiempos aproximados de ida y vuelta en milisegundos:\n",
      "    M�nimo = 0ms, M�ximo = 0ms, Media = 0ms\n",
      "\n",
      "Haciendo ping a DESKTOP-9E31NLE [::1] con 65500 bytes de datos:\n",
      "Respuesta desde ::1: tiempo<1m \n",
      "\n",
      "Estad�sticas de ping para ::1:\n",
      "    Paquetes: enviados = 1, recibidos = 1, perdidos = 0\n",
      "    (0% perdidos),\n",
      "Tiempos aproximados de ida y vuelta en milisegundos:\n",
      "    M�nimo = 0ms, M�ximo = 0ms, Media = 0ms\n",
      "\n",
      "Haciendo ping a DESKTOP-9E31NLE [::1] con 65500 bytes de datos:\n",
      "Respuesta desde ::1: tiempo<1m \n",
      "\n",
      "Estad�sticas de ping para ::1:\n",
      "    Paquetes: enviados = 1, recibidos = 1, perdidos = 0\n",
      "    (0% perdidos),\n",
      "Tiempos aproximados de ida y vuelta en milisegundos:\n",
      "    M�nimo = 0ms, M�ximo = 0ms, Media = 0ms\n",
      "\n",
      "Haciendo ping a DESKTOP-9E31NLE [::1] con 65500 bytes de datos:\n",
      "Respuesta desde ::1: tiempo<1m \n",
      "\n",
      "Estad�sticas de ping para ::1:\n",
      "    Paquetes: enviados = 1, recibidos = 1, perdidos = 0\n",
      "    (0% perdidos),\n",
      "Tiempos aproximados de ida y vuelta en milisegundos:\n",
      "    M�nimo = 0ms, M�ximo = 0ms, Media = 0ms\n",
      "\n",
      "Haciendo ping a DESKTOP-9E31NLE [::1] con 65500 bytes de datos:\n",
      "Respuesta desde ::1: tiempo<1m \n",
      "\n",
      "Estad�sticas de ping para ::1:\n",
      "    Paquetes: enviados = 1, recibidos = 1, perdidos = 0\n",
      "    (0% perdidos),\n",
      "Tiempos aproximados de ida y vuelta en milisegundos:\n",
      "    M�nimo = 0ms, M�ximo = 0ms, Media = 0ms\n",
      "\n",
      "Haciendo ping a DESKTOP-9E31NLE [::1] con 65500 bytes de datos:\n",
      "Respuesta desde ::1: tiempo<1m \n",
      "\n",
      "Estad�sticas de ping para ::1:\n",
      "    Paquetes: enviados = 1, recibidos = 1, perdidos = 0\n",
      "    (0% perdidos),\n",
      "Tiempos aproximados de ida y vuelta en milisegundos:\n",
      "    M�nimo = 0ms, M�ximo = 0ms, Media = 0ms\n",
      "\n",
      "Haciendo ping a DESKTOP-9E31NLE [::1] con 65500 bytes de datos:\n",
      "Respuesta desde ::1: tiempo<1m \n",
      "\n",
      "Estad�sticas de ping para ::1:\n",
      "    Paquetes: enviados = 1, recibidos = 1, perdidos = 0\n",
      "    (0% perdidos),\n",
      "Tiempos aproximados de ida y vuelta en milisegundos:\n",
      "    M�nimo = 0ms, M�ximo = 0ms, Media = 0ms\n",
      "\n",
      "Haciendo ping a DESKTOP-9E31NLE [::1] con 65500 bytes de datos:\n",
      "Respuesta desde ::1: tiempo<1m \n",
      "\n",
      "Estad�sticas de ping para ::1:\n",
      "    Paquetes: enviados = 1, recibidos = 1, perdidos = 0\n",
      "    (0% perdidos),\n",
      "Tiempos aproximados de ida y vuelta en milisegundos:\n",
      "    M�nimo = 0ms, M�ximo = 0ms, Media = 0ms\n",
      "\n",
      "Haciendo ping a DESKTOP-9E31NLE [::1] con 65500 bytes de datos:\n",
      "Respuesta desde ::1: tiempo<1m \n",
      "\n",
      "Estad�sticas de ping para ::1:\n",
      "    Paquetes: enviados = 1, recibidos = 1, perdidos = 0\n",
      "    (0% perdidos),\n",
      "Tiempos aproximados de ida y vuelta en milisegundos:\n",
      "    M�nimo = 0ms, M�ximo = 0ms, Media = 0ms\n",
      "\n",
      "Haciendo ping a DESKTOP-9E31NLE [::1] con 65500 bytes de datos:\n",
      "Respuesta desde ::1: tiempo<1m \n",
      "\n",
      "Estad�sticas de ping para ::1:\n",
      "    Paquetes: enviados = 1, recibidos = 1, perdidos = 0\n",
      "    (0% perdidos),\n",
      "Tiempos aproximados de ida y vuelta en milisegundos:\n",
      "    M�nimo = 0ms, M�ximo = 0ms, Media = 0ms\n",
      "\n",
      "Haciendo ping a DESKTOP-9E31NLE [::1] con 65500 bytes de datos:\n",
      "Respuesta desde ::1: tiempo<1m \n",
      "\n",
      "Estad�sticas de ping para ::1:\n",
      "    Paquetes: enviados = 1, recibidos = 1, perdidos = 0\n",
      "    (0% perdidos),\n",
      "Tiempos aproximados de ida y vuelta en milisegundos:\n",
      "    M�nimo = 0ms, M�ximo = 0ms, Media = 0ms\n",
      "\n",
      "Haciendo ping a DESKTOP-9E31NLE [::1] con 65500 bytes de datos:\n",
      "Respuesta desde ::1: tiempo<1m \n",
      "\n",
      "Estad�sticas de ping para ::1:\n",
      "    Paquetes: enviados = 1, recibidos = 1, perdidos = 0\n",
      "    (0% perdidos),\n",
      "Tiempos aproximados de ida y vuelta en milisegundos:\n",
      "    M�nimo = 0ms, M�ximo = 0ms, Media = 0ms\n",
      "\n",
      "Haciendo ping a DESKTOP-9E31NLE [::1] con 65500 bytes de datos:\n",
      "Respuesta desde ::1: tiempo<1m \n",
      "\n",
      "Estad�sticas de ping para ::1:\n",
      "    Paquetes: enviados = 1, recibidos = 1, perdidos = 0\n",
      "    (0% perdidos),\n",
      "Tiempos aproximados de ida y vuelta en milisegundos:\n",
      "    M�nimo = 0ms, M�ximo = 0ms, Media = 0ms\n",
      "\n",
      "Haciendo ping a DESKTOP-9E31NLE [::1] con 65500 bytes de datos:\n",
      "Respuesta desde ::1: tiempo<1m \n",
      "\n",
      "Estad�sticas de ping para ::1:\n",
      "    Paquetes: enviados = 1, recibidos = 1, perdidos = 0\n",
      "    (0% perdidos),\n",
      "Tiempos aproximados de ida y vuelta en milisegundos:\n",
      "    M�nimo = 0ms, M�ximo = 0ms, Media = 0ms\n",
      "\n",
      "Haciendo ping a DESKTOP-9E31NLE [::1] con 65500 bytes de datos:\n",
      "Respuesta desde ::1: tiempo<1m \n",
      "\n",
      "Estad�sticas de ping para ::1:\n",
      "    Paquetes: enviados = 1, recibidos = 1, perdidos = 0\n",
      "    (0% perdidos),\n",
      "Tiempos aproximados de ida y vuelta en milisegundos:\n",
      "    M�nimo = 0ms, M�ximo = 0ms, Media = 0ms\n",
      "\n",
      "Haciendo ping a DESKTOP-9E31NLE [::1] con 65500 bytes de datos:\n",
      "Respuesta desde ::1: tiempo<1m \n",
      "\n",
      "Estad�sticas de ping para ::1:\n",
      "    Paquetes: enviados = 1, recibidos = 1, perdidos = 0\n",
      "    (0% perdidos),\n",
      "Tiempos aproximados de ida y vuelta en milisegundos:\n",
      "    M�nimo = 0ms, M�ximo = 0ms, Media = 0ms\n"
     ]
    }
   ],
   "source": [
    "print('ataque con 20 hilos y el pin de la muerte')\n",
    "for i in range(20):\n",
    "    ! ping localhost -l 65500 -w 1 -n 1"
   ]
  }
 ],
 "metadata": {
  "kernelspec": {
   "display_name": "Python 3",
   "language": "python",
   "name": "python3"
  },
  "language_info": {
   "codemirror_mode": {
    "name": "ipython",
    "version": 3
   },
   "file_extension": ".py",
   "mimetype": "text/x-python",
   "name": "python",
   "nbconvert_exporter": "python",
   "pygments_lexer": "ipython3",
   "version": "3.9.1-final"
  }
 },
 "nbformat": 4,
 "nbformat_minor": 2
}