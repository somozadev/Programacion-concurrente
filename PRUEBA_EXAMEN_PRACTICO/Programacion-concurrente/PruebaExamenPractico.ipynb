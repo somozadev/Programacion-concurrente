{
 "metadata": {
  "language_info": {
   "codemirror_mode": {
    "name": "ipython",
    "version": 3
   },
   "file_extension": ".py",
   "mimetype": "text/x-python",
   "name": "python",
   "nbconvert_exporter": "python",
   "pygments_lexer": "ipython3",
   "version": "3.9.1"
  },
  "orig_nbformat": 2,
  "kernelspec": {
   "name": "python391jvsc74a57bd09afd1c93655643a3515b9ec374dd027d2e4aa47448a883b69ea119c252b3b45f",
   "display_name": "Python 3.9.1 64-bit"
  }
 },
 "nbformat": 4,
 "nbformat_minor": 2,
 "cells": [
  {
   "source": [
    "<h1 style = \"text-align:center\">Programación Concurrente y Distribuida </h1>\n",
    "<h2 style = \"text-align:center\">Prueba examen práctico</h2>\n",
    "<h3 style = \"text-align:center\"> 21/04/2021 </h3>\n",
    "<a href=\"https://github.com/somozadev\">\n",
    "<img src= \"https://avatars.githubusercontent.com/u/35799901?v=4\" title = \"Marcos Eladio Somoza Corral 21711787\" alt=\"Marcos Eladio Somoza Corral\" width=\"100\" height=\"100\" style=\"float:left;vertical-alig:middle\">\n",
    "<img src=\"https://universidadeuropea.com/resources/static/img/ue-logo-handwritting.png\" title= \"M21\"alt=\"UE\" width=\"105\" heighºt=\"105\" style=\"float:right;vertical-alig:middle\">"
   ],
   "cell_type": "markdown",
   "metadata": {}
  },
  {
   "source": [
    "<h1 style = \"text-align:center\"> HASH: caaec9be202e8c1fe3d38c6c6208da9a9eb51e66 <h1>"
   ],
   "cell_type": "markdown",
   "metadata": {}
  },
  {
   "source": [
    "<h1>Pregunta-1</h1> \n",
    "Si quitamos los hilos dentro de los programas que tenemos de cliente y servidor, es posible seguir creando clientes y que todo funcionen igual ? porque si o porque no? \n",
    "\n",
    "Se podrá conectar el primer cliente que intente la conexion con el servidor, pero dado que no hay ningun sistema de administracion de hilos por parte del servidor, el primer cliente se manterndrá conectado, y no pordán conectarse nuevos clientes. \n",
    "Además de ello, dado que estamos usando los hilos para enviar y recibir información, el cliente conectado no podrá ni enviar ni recibir informacion, dado que el servidor no va a procesar nada."
   ],
   "cell_type": "markdown",
   "metadata": {}
  },
  {
   "source": [
    "<h1>Pregunta-2</h1>\n",
    "Quitar los hilos y ejecutar el código sin hilos. "
   ],
   "cell_type": "markdown",
   "metadata": {}
  },
  {
   "cell_type": "code",
   "execution_count": 2,
   "metadata": {},
   "outputs": [],
   "source": [
    "# import threading\n",
    "import sys\n",
    "import socket\n",
    "import pickle\n",
    "import os\n"
   ]
  },
  {
   "cell_type": "code",
   "execution_count": 4,
   "metadata": {},
   "outputs": [
    {
     "output_type": "stream",
     "name": "stdout",
     "text": [
      "Tu ip es: 10.34.86.211\n",
      "**** SERVER CLOSED *****\n"
     ]
    },
    {
     "output_type": "error",
     "ename": "SystemExit",
     "evalue": "",
     "traceback": [
      "An exception has occurred, use %tb to see the full traceback.\n",
      "\u001b[1;31mSystemExit\u001b[0m\n"
     ]
    }
   ],
   "source": []
  },
  {
   "source": [],
   "cell_type": "code",
   "metadata": {},
   "execution_count": null,
   "outputs": []
  },
  {
   "source": [
    "\t\t\t\tconn.setblocking(True) y limitar el acceso a escuchar a un sólo usuario self.sock.listen(1)\n",
    "\t\t\t\tSi dejamos todos los setblocking a true, no permitimos más conexiones de clientes nuevos al socket."
   ],
   "cell_type": "markdown",
   "metadata": {}
  },
  {
   "source": [
    "Pregunta-3 \n",
    "mandar las caracteristicas de los equipos de forma automatica por chat (conectarse a su pc) coger nombre, num de nucleos "
   ],
   "cell_type": "markdown",
   "metadata": {}
  }
 ]
}