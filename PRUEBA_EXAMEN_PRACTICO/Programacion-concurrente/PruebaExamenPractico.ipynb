{
 "metadata": {
  "language_info": {
   "codemirror_mode": {
    "name": "ipython",
    "version": 3
   },
   "file_extension": ".py",
   "mimetype": "text/x-python",
   "name": "python",
   "nbconvert_exporter": "python",
   "pygments_lexer": "ipython3",
   "version": "3.9.1"
  },
  "orig_nbformat": 2,
  "kernelspec": {
   "name": "python391jvsc74a57bd09afd1c93655643a3515b9ec374dd027d2e4aa47448a883b69ea119c252b3b45f",
   "display_name": "Python 3.9.1 64-bit"
  }
 },
 "nbformat": 4,
 "nbformat_minor": 2,
 "cells": [
  {
   "source": [
    "<h1 style = \"text-align:center\">Programación Concurrente y Distribuida </h1>\n",
    "<h2 style = \"text-align:center\">Prueba examen práctico</h2>\n",
    "<h3 style = \"text-align:center\"> 21/04/2021 </h3>\n",
    "<a href=\"https://github.com/somozadev\">\n",
    "<img src= \"https://avatars.githubusercontent.com/u/35799901?v=4\" title = \"Marcos Eladio Somoza Corral 21711787\" alt=\"Marcos Eladio Somoza Corral\" width=\"100\" height=\"100\" style=\"float:left;vertical-alig:middle\">\n",
    "<img src=\"https://universidadeuropea.com/resources/static/img/ue-logo-handwritting.png\" title= \"M21\"alt=\"UE\" width=\"105\" heighºt=\"105\" style=\"float:right;vertical-alig:middle\">"
   ],
   "cell_type": "markdown",
   "metadata": {}
  },
  {
   "source": [
    "<h1 style = \"text-align:center\"> HASH:  <h1>"
   ],
   "cell_type": "markdown",
   "metadata": {}
  },
  {
   "source": [
    "<h1>Pregunta-1</h1> \n",
    "!git clone https://github.com/sukuzhanay/chat_using_sockets.git\n",
    "\n"
   ],
   "cell_type": "markdown",
   "metadata": {}
  },
  {
   "source": [
    "<h1>Pregunta-2</h1>\n",
    "!git checkout cornona-virus-chat-v2\n"
   ],
   "cell_type": "markdown",
   "metadata": {}
  },
  {
   "source": [
    "<h1> Pregunta-3 </h1>\n",
    "import platform\n",
    "<p></p>\n",
    "import os\n",
    "<p></p>\n",
    "import soket\n",
    "<p>-----</p>\n",
    "<p></p>\n",
    "A) platform.processor()\n",
    "<p></p>\n",
    "B) platform.machine()\n",
    "<p></p>\n",
    "C) platform.release()\n",
    "<p></p>\n",
    "D) platform.version()\n",
    "<p></p>\n",
    "E) platform.node()\n",
    "<p></p>\n",
    "F) platform.system()\n",
    "<p></p>\n",
    "G) os.cpu_count()/2\n",
    "<p></p>\n",
    "H) socket.gethostbyname(socket.gethostname())"
   ],
   "cell_type": "markdown",
   "metadata": {}
  },
  {
   "source": [
    "<h1> Pregunta-4 </h1>\n",
    "Cambie el tamaño del buffer a 1024"
   ],
   "cell_type": "markdown",
   "metadata": {}
  },
  {
   "source": [
    "import threading\n",
    "import sys\n",
    "import socket\n",
    "import pickle\n",
    "import os\n",
    "\n",
    "class Cliente():\n",
    "\n",
    "\tdef __init__(self, host=socket.gethostname(), port=input(\"Port:\")):\n",
    "\t\tself.sock = socket.socket()\n",
    "\t\tself.sock.connect((str(host), int(port)))\n",
    "\t\thilo_recv_mensaje = threading.Thread(target=self.recibir)\n",
    "\t\thilo_recv_mensaje.daemon = True\n",
    "\t\thilo_recv_mensaje.start()\n",
    "\t\tprint('Hilo con PID',os.getpid())\n",
    "\t\tprint('Hilos activos', threading.active_count())\n",
    "\n",
    "\t\twhile True:\n",
    "\t\t\tmsg = input('\\nEscriba texto ? ** Enviar = ENTER ** Abandonar Chat = Q \\n')\n",
    "\t\t\tif msg != 'Q' :\n",
    "\t\t\t\tself.enviar(msg)\n",
    "\t\t\telse:\n",
    "\t\t\t\tprint(\" **** TALOGOOO  ****\")\n",
    "\t\t\t\tself.sock.close()\n",
    "\t\t\t\tsys.exit()\n",
    "\n",
    "\tdef recibir(self):\n",
    "\t\twhile True:\n",
    "\t\t\ttry:\n",
    "\t\t\t\tdata = self.sock.recv(1024) #data = self.sock.recv(32)\n",
    "\n",
    "\t\t\t\tif data:\n",
    "\t\t\t\t\tprint(pickle.loads(data))\n",
    "\t\t\texcept:\n",
    "\t\t\t\tpass\n",
    "\n",
    "\tdef enviar(self, msg):\n",
    "\t\tself.sock.send(pickle.dumps(msg))\n",
    "\n",
    "c = Cliente()"
   ],
   "cell_type": "code",
   "metadata": {},
   "execution_count": null,
   "outputs": []
  },
  {
   "source": [
    "<h1> Pregunta-5</h1>\n",
    "Ponga en marcha el chat, tanto cliente (4 instancias) así como el servidor y envié\n",
    "su configuración( podéis hacerlo a mano)"
   ],
   "cell_type": "markdown",
   "metadata": {}
  },
  {
   "cell_type": "code",
   "execution_count": 11,
   "metadata": {},
   "outputs": [
    {
     "output_type": "error",
     "ename": "TabError",
     "evalue": "inconsistent use of tabs and spaces in indentation (<ipython-input-11-fb69e3dc2138>, line 18)",
     "traceback": [
      "\u001b[1;36m  File \u001b[1;32m\"<ipython-input-11-fb69e3dc2138>\"\u001b[1;36m, line \u001b[1;32m18\u001b[0m\n\u001b[1;33m    self.enviar(platform.uname())\u001b[0m\n\u001b[1;37m                                 ^\u001b[0m\n\u001b[1;31mTabError\u001b[0m\u001b[1;31m:\u001b[0m inconsistent use of tabs and spaces in indentation\n"
     ]
    }
   ],
   "source": [
    "import threading\n",
    "import sys\n",
    "import socket\n",
    "import pickle\n",
    "import os\n",
    "import platform\n",
    "\n",
    "class Cliente():\n",
    "\n",
    "\tdef __init__(self, host=socket.gethostname(), port=input(\"Port:\")):\n",
    "\t\tself.sock = socket.socket()\n",
    "\t\tself.sock.connect((str(host), int(port)))\n",
    "\t\thilo_recv_mensaje = threading.Thread(target=self.recibir)\n",
    "\t\thilo_recv_mensaje.daemon = True\n",
    "\t\thilo_recv_mensaje.start()\n",
    "\t\tprint('Hilo con PID',os.getpid())\n",
    "\t\tprint('Hilos activos', threading.active_count())\n",
    "        self.enviar(platform.uname())\n",
    "\n",
    "\t\twhile True:\n",
    "\t\t\tmsg = input('\\nEscriba texto ? ** Enviar = ENTER ** Abandonar Chat = Q \\n')\n",
    "\t\t\tif msg != 'Q' :\n",
    "\t\t\t\tself.enviar(msg)\n",
    "\t\t\telse:\n",
    "\t\t\t\tprint(\" **** TALOGOOO  ****\")\n",
    "\t\t\t\tself.sock.close()\n",
    "\t\t\t\tsys.exit()\n",
    "\n",
    "\tdef recibir(self):\n",
    "\t\twhile True:\n",
    "\t\t\ttry:\n",
    "\t\t\t\tdata = self.sock.recv(1024) #data = self.sock.recv(32)\n",
    "\n",
    "\t\t\t\tif data:\n",
    "\t\t\t\t\tprint(pickle.loads(data))\n",
    "\t\t\texcept:\n",
    "\t\t\t\tpass\n",
    "\n",
    "\tdef enviar(self, msg):\n",
    "\t\tself.sock.send(pickle.dumps(msg))\n",
    "\n",
    "c = Cliente()"
   ]
  }
 ]
}