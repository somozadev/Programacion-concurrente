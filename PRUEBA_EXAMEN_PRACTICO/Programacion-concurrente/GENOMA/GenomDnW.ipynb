{
 "metadata": {
  "language_info": {
   "codemirror_mode": {
    "name": "ipython",
    "version": 3
   },
   "file_extension": ".py",
   "mimetype": "text/x-python",
   "name": "python",
   "nbconvert_exporter": "python",
   "pygments_lexer": "ipython3",
   "version": "3.9.1"
  },
  "orig_nbformat": 2,
  "kernelspec": {
   "name": "python391jvsc74a57bd09afd1c93655643a3515b9ec374dd027d2e4aa47448a883b69ea119c252b3b45f",
   "display_name": "Python 3.9.1 64-bit"
  }
 },
 "nbformat": 4,
 "nbformat_minor": 2,
 "cells": [
  {
   "source": [
    "<h1 style = \"text-align:center\">Programación Concurrente y Distribuida </h1>\n",
    "<a href=\"https://github.com/somozadev\">\n",
    "<img src=\"MARCOS_SOMOZA.jfif\" title = \"Marcos Eladio Somoza Corral 21711787\" alt=\"Marcos Eladio Somoza Corral\" width=\"100\" height=\"100\" style=\"float:left;vertical-alig:middle\">\n",
    "<img src=\"UEM.png\" title= \"M21\"alt=\"UE\" width=\"105\" heighºt=\"105\" style=\"float:right;vertical-alig:middle\">"
   ],
   "cell_type": "markdown",
   "metadata": {}
  },
  {
   "source": [
    "<h1 style = \"text-align:center; color:#433789\">GENÉTICA CONCURRENTE</h1>"
   ],
   "cell_type": "markdown",
   "metadata": {}
  },
  {
   "cell_type": "code",
   "execution_count": 8,
   "metadata": {},
   "outputs": [],
   "source": [
    "import concurrent.futures\n",
    "import time\n",
    "import multiprocessing as mp\n",
    "import numpy as np\n",
    "import matplotlib.pyplot as plt"
   ]
  },
  {
   "source": [
    "<h3 style = \"text-align:center; color:#433789\">MÉTODO GENOMA CONCURRENTE</h3>"
   ],
   "cell_type": "markdown",
   "metadata": {}
  },
  {
   "cell_type": "code",
   "execution_count": 15,
   "metadata": {},
   "outputs": [
    {
     "output_type": "error",
     "ename": "IndentationError",
     "evalue": "expected an indented block (<ipython-input-15-91b7c16d573b>, line 5)",
     "traceback": [
      "\u001b[1;36m  File \u001b[1;32m\"<ipython-input-15-91b7c16d573b>\"\u001b[1;36m, line \u001b[1;32m5\u001b[0m\n\u001b[1;33m    if not pool:\u001b[0m\n\u001b[1;37m    ^\u001b[0m\n\u001b[1;31mIndentationError\u001b[0m\u001b[1;31m:\u001b[0m expected an indented block\n"
     ]
    }
   ],
   "source": [
    "\n",
    "    # pool (de thread o de process) executor se encarga de darle ordenes al procesador, las manda con el submit\n",
    "    # el pool thread executor te da x5 veces los hilos que soporte tu maquina, y pool process executor los procesadores que tengas\n",
    "    # hay que darle un max_workers o sino cogerá todos los recursos disponibles para realizar la tarea  \n",
    "def GenomaConcurr(bot, top, pool = None):\n",
    "    if not pool: \n",
    "        with concurrent.futures.ThreadPoolExecutor() as controller: \n",
    "            todoWork = GenomaConcurr(bot, top, pool = controller)\n",
    "            return sum(doneWork.result() for doneWork in concurrent.futures.as_completed(todoWork))\n",
    "    else:\n",
    "        if top - bot <= 9_000_000:\n",
    "            return [pool.submit(sum, range(bot, top))]\n",
    "        else: \n",
    "            half = (top + bot) // 2       \n",
    "            left = GenomaConcurr(bot, half, pool = pool)\n",
    "            right = GenomaConcurr(half, top, pool = pool)\n",
    "            return left + right \n"
   ]
  },
  {
   "cell_type": "code",
   "execution_count": 18,
   "metadata": {},
   "outputs": [
    {
     "output_type": "error",
     "ename": "SyntaxError",
     "evalue": "invalid syntax (<ipython-input-18-725708fa40a9>, line 4)",
     "traceback": [
      "\u001b[1;36m  File \u001b[1;32m\"<ipython-input-18-725708fa40a9>\"\u001b[1;36m, line \u001b[1;32m4\u001b[0m\n\u001b[1;33m    TimeByHand = 0   f\u001b[0m\n\u001b[1;37m                     ^\u001b[0m\n\u001b[1;31mSyntaxError\u001b[0m\u001b[1;31m:\u001b[0m invalid syntax\n"
     ]
    }
   ],
   "source": [
    "\n",
    "top = 90_00_000_000 \n",
    "counter =   1\n",
    "print('Calculando el resultado sin usar todos los cores...')   \n",
    "TimeByHand = 0   \n",
    "for i in range(counter):     \n",
    "    start = time.perf_counter()      \n",
    "    sum(range(1,top))   \n",
    "    TimeByHand += time.perf_counter() - start\n",
    "TimeByHand /= counter\n",
    "print('Calculando el resultado usando todos los cores......')\n",
    "TimeByMachine = 0\n",
    "for i in range(counter):\n",
    "    start = time.perf_counter()\n",
    "    GenomaConcurr(1, top)\n",
    "    TimeByMachine += time.perf_counter() - start\n",
    "TimeByMachine /= counter\n",
    "print('\\nTiempo_a_MANO :',round(TimeByHand,3), 'segundos o,',round(TimeByHand*1000,3),'milisegundos')\n",
    "print('Tiempo_a_toda_MAQUINA :', round(TimeByMachine,3), 'segundos o,',round(TimeByMachine*1000,3),'milisegundos')\n",
    "print('Diferencia entre tiempo a MANO y tiempo a toda MAQUINA :',round(TimeByHand - TimeByMachine,3), 'segundos o,',round((TimeByHand - TimeByMachine)*1000,3),'milisegundos')\n",
    "print('Relación entre tiempo a MANO y tiempo a toda MAQUINA:',round(TimeByHand / TimeByMachine,3),'%')\n",
    "print('Relación entre la computación tradicional ( a mano ) VS a la programación a toda máquina:', round((TimeByHand / TimeByMachine) / mp.cpu_count(),3)*100)\n",
    "\n",
    "height = [TimeByHand,TimeByMachine]\n",
    "bars = ('A mano', 'A toda maquina')\n",
    "x_pos = np.arange(len(bars))\n",
    "plt.bar(x_pos, height)\n",
    "plt.xticks(x_pos, bars)\n",
    "plt.show()"
   ]
  },
  {
   "source": [
    "<img src=\"pidProcess.png\" title = \"Marcos Eladio Somoza Corral 21711787\" alt=\"Marcos Eladio Somoza Corral\" style=\"float:left;vertical-alig:middle\">"
   ],
   "cell_type": "markdown",
   "metadata": {}
  },
  {
   "source": [
    "<img src=\"usage.png\" title = \"Marcos Eladio Somoza Corral 21711787\" alt=\"Marcos Eladio Somoza Corral\" style=\"float:left;vertical-alig:middle\">"
   ],
   "cell_type": "markdown",
   "metadata": {}
  }
 ]
}