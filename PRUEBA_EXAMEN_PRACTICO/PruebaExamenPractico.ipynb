{
 "metadata": {
  "language_info": {
   "codemirror_mode": {
    "name": "ipython",
    "version": 3
   },
   "file_extension": ".py",
   "mimetype": "text/x-python",
   "name": "python",
   "nbconvert_exporter": "python",
   "pygments_lexer": "ipython3",
   "version": "3.8.5"
  },
  "orig_nbformat": 2,
  "kernelspec": {
   "name": "python385jvsc74a57bd02db524e06e9f5f4ffedc911c917cb75e12dbc923643829bf417064a77eb14d37",
   "display_name": "Python 3.8.5 64-bit"
  },
  "metadata": {
   "interpreter": {
    "hash": "2db524e06e9f5f4ffedc911c917cb75e12dbc923643829bf417064a77eb14d37"
   }
  }
 },
 "nbformat": 4,
 "nbformat_minor": 2,
 "cells": [
  {
   "source": [
    "<h1 style = \"text-align:center\">Programación Concurrente y Distribuida </h1>\n",
    "<h2 style = \"text-align:center\">Prueba examen práctico</h2>\n",
    "<h3 style = \"text-align:center\"> 21/04/2021 </h3>\n",
    "<a href=\"https://github.com/somozadev\">\n",
    "<img src= \"https://avatars.githubusercontent.com/u/35799901?v=4\" title = \"Marcos Eladio Somoza Corral 21711787\" alt=\"Marcos Eladio Somoza Corral\" width=\"100\" height=\"100\" style=\"float:left;vertical-alig:middle\">\n",
    "<img src=\"https://universidadeuropea.com/resources/static/img/ue-logo-handwritting.png\" title= \"M21\"alt=\"UE\" width=\"105\" heighºt=\"105\" style=\"float:right;vertical-alig:middle\">"
   ],
   "cell_type": "markdown",
   "metadata": {}
  },
  {
   "source": [
    "<h1 style = \"text-align:center\"> HASH:  <h1>"
   ],
   "cell_type": "markdown",
   "metadata": {}
  },
  {
   "source": [
    "<h1>Pregunta-1</h1> \n",
    "\n",
    "!git clone https://github.com/sukuzhanay/chat_using_sockets.git\n"
   ],
   "cell_type": "markdown",
   "metadata": {}
  },
  {
   "cell_type": "code",
   "execution_count": 1,
   "metadata": {},
   "outputs": [
    {
     "output_type": "stream",
     "name": "stdout",
     "text": [
      "commit 71c7b82ebbff2813f9f73cd3b6aa9d7c3ee7dc28\n",
      "Author: somozadev <somozadev@gmail.com>\n",
      "Date:   Wed Apr 28 01:25:51 2021 +0200\n",
      "\n",
      "    Create PruebaExamenPractico.ipynb\n",
      "\n",
      "commit e1205486462dd7a380b17a77b65c0b1d496d35aa\n",
      "Author: somozadev <somozadev@gmail.com>\n",
      "Date:   Tue Apr 27 21:36:40 2021 +0200\n",
      "\n",
      "    Update 21711787.py\n",
      "\n",
      "commit ebb869d7136b2980f488b03cb2b18d15df1991d0\n",
      "Author: somozadev <somozadev@gmail.com>\n",
      "Date:   Tue Apr 27 04:32:14 2021 +0200\n",
      "\n",
      "    Entrega login/register json done. Generate processPool array of expedient length done\n",
      "    \n",
      "    issues with problem A)\n",
      "    \n",
      "    todo: Problem B)\n",
      "    apply mergesort based on nº cores\n",
      "    to the genereated array\n",
      "\n",
      "commit 943fbf8a8b9948481377e44d5d198b5fca287720\n",
      "Author: somozadev <somozadev@gmail.com>\n",
      "Date:   Mon Apr 26 12:43:39 2021 +0200\n",
      "\n",
      "    AI4\n",
      "\n",
      "commit e3aad92ae99f5f65191dfd8fab70e83660b46e32\n",
      "Author: somozadev <somozadev@gmail.com>\n",
      "Date:   Sun Apr 25 23:34:08 2021 +0200\n",
      "\n",
      "    Update servidor.py\n",
      "\n",
      "commit 4c9672c290a158833b8a3b83ecaebb36c129c7e2\n",
      "Author: somozadev <somozadev@gmail.com>\n",
      "Date:   Fri Apr 23 04:09:30 2021 +0200\n",
      "\n",
      "    wip\n",
      "\n",
      "commit 16b9c32d1f8b0cc81ed1e47304847ed47d8c45e0\n",
      "Author: somozadev <somozadev@gmail.com>\n",
      "Date:   Thu Apr 22 22:30:15 2021 +0200\n",
      "\n",
      "    prueba examen practico\n",
      "\n",
      "commit 2173eb374ebc3b1d73e96085d9cb050b05613e97\n",
      "Author: somozadev <somozadev@gmail.com>\n",
      "Date:   Wed Apr 21 17:20:21 2021 +0200\n",
      "\n",
      "    prueba del examen\n",
      "\n",
      "commit caaec9be202e8c1fe3d38c6c6208da9a9eb51e66\n",
      "Author: somozadev <somozadev@gmail.com>\n",
      "Date:   Thu Apr 15 21:01:34 2021 +0200\n",
      "\n",
      "    order\n",
      "\n",
      "commit a2dcd707462db9bdf987e86a2bb991fa96787fb6\n",
      "Author: somozadev <somozadev@gmail.com>\n",
      "Date:   Thu Apr 15 21:00:16 2021 +0200\n",
      "\n",
      "    Organization\n",
      "\n",
      "commit adbc8e306fd4199e5f9b7a10edf8d4eaff90886a\n",
      "Author: somozadev <somozadev@gmail.com>\n",
      "Date:   Thu Apr 15 20:58:53 2021 +0200\n",
      "\n",
      "    Added Imgs.\n",
      "\n",
      "commit d642639bc0618a3f9dabec1fab62b9aaffafb36e\n",
      "Author: somozadev <somozadev@gmail.com>\n",
      "Date:   Thu Apr 15 20:58:24 2021 +0200\n",
      "\n",
      "    Added GenomaDNWCOncurr\n",
      "\n",
      "commit 9bd2d62483619ce73758f0a9e60401fc04d86c02\n",
      "Author: somozadev <somozadev@gmail.com>\n",
      "Date:   Wed Mar 24 17:24:02 2021 +0100\n",
      "\n",
      "    Deleted unwanted stuff\n",
      "\n",
      "commit 1352d44ad4c315b0a100bb836c89f841e304ff75\n",
      "Author: somozadev <somozadev@gmail.com>\n",
      "Date:   Wed Mar 24 17:23:04 2021 +0100\n",
      "\n",
      "    Delete README.md\n",
      "\n",
      "commit 50080fe12da98e1b6bf42bd5ab05bc14ccea66c7\n",
      "Author: somozadev <somozadev@gmail.com>\n",
      "Date:   Wed Mar 24 17:21:36 2021 +0100\n",
      "\n",
      "    Practica2_ChatSockets\n",
      "\n",
      "commit 1550cdb3139c68deec40f09284084f22cc76e90c\n",
      "Author: somozadev <somozadev@gmail.com>\n",
      "Date:   Wed Mar 17 17:23:03 2021 +0100\n",
      "\n",
      "    Finished classwork1st\n",
      "\n",
      "commit 74eb33d1baf32df578fab0f7e8f88ac42fbb8dd0\n",
      "Author: somozadev <somozadev@gmail.com>\n",
      "Date:   Fri Feb 26 12:03:44 2021 +0100\n",
      "\n",
      "    redesing\n",
      "\n",
      "commit 167ec4b6d438ac428acf64cd635130a779641264\n",
      "Author: somozadev <somozadev@gmail.com>\n",
      "Date:   Thu Feb 25 17:06:57 2021 +0100\n",
      "\n",
      "    Visuals done\n",
      "\n",
      "commit 95fc2b7724ac8ba8a775473f73bb2a43070d8298\n",
      "Author: somozadev <somozadev@gmail.com>\n",
      "Date:   Thu Feb 25 03:22:48 2021 +0100\n",
      "\n",
      "    first commit\n"
     ]
    }
   ],
   "source": [
    "!git log"
   ]
  },
  {
   "source": [
    "<h1>Pregunta-2</h1>\n",
    "!git checkout cornona-virus-chat-v2\n"
   ],
   "cell_type": "markdown",
   "metadata": {}
  },
  {
   "source": [
    "<h1> Pregunta-3 </h1>\n",
    "import platform\n",
    "<p></p>\n",
    "import os\n",
    "<p></p>\n",
    "import soket\n",
    "<p>-----</p>\n",
    "<p></p>\n",
    "A) platform.processor()\n",
    "<p></p>\n",
    "B) platform.machine()\n",
    "<p></p>\n",
    "C) platform.release()\n",
    "<p></p>\n",
    "D) platform.version()\n",
    "<p></p>\n",
    "E) platform.node()\n",
    "<p></p>\n",
    "F) platform.system()\n",
    "<p></p>\n",
    "G) os.cpu_count()/2\n",
    "<p></p>\n",
    "H) socket.gethostbyname(socket.gethostname())"
   ],
   "cell_type": "markdown",
   "metadata": {}
  },
  {
   "cell_type": "code",
   "execution_count": 34,
   "metadata": {},
   "outputs": [
    {
     "output_type": "stream",
     "name": "stdout",
     "text": [
      "+----------+---------------+--------------------------------------------+-----------------------------------------------------+\n| Question |  Result Type  |                   Method                   |                        Result                       |\n+----------+---------------+--------------------------------------------+-----------------------------------------------------+\n|    A     |   Procesador  |            platform.processor()            | Intel64 Family 6 Model 165 Stepping 5, GenuineIntel |\n|    B     |    Machine    |             platform.machine()             |                        AMD64                        |\n|    C     |    Release    |             platform.release()             |                          10                         |\n|    D     |    Version    |             platform.version()             |                      10.0.19041                     |\n|    E     |      Node     |              platform.node()               |                   DESKTOP-E0LNIDD                   |\n|    F     |     System    |             platform.system()              |                       Windows                       |\n|    G     | Cores físicos |              os.cpu_count()/2              |                         10.0                        |\n|    H     |      Ipv4     | socket.gethostbyname(socket.gethostname()) |                     192.168.56.1                    |\n+----------+---------------+--------------------------------------------+-----------------------------------------------------+\n"
     ]
    }
   ],
   "source": [
    "import platform\n",
    "import os\n",
    "import socket \n",
    "import prettytable as pt\n",
    "\n",
    "def osInfo():\n",
    "    table = pt.PrettyTable()\n",
    "    table.field_names = [\"Question\",\"Result Type\",\"Method\",\"Result\"]\n",
    "    table.add_rows([\n",
    "        [\"A\",\"Procesador\",\"platform.processor()\",platform.processor()],\n",
    "        [\"B\",\"Machine\",\"platform.machine()\",platform.machine()],\n",
    "        [\"C\",\"Release\",\"platform.release()\",platform.release()],\n",
    "        [\"D\",\"Version\",\"platform.version()\",platform.version()],\n",
    "        [\"E\",\"Node\",\"platform.node()\",platform.node()],\n",
    "        [\"F\",\"System\",\"platform.system()\",platform.system()],\n",
    "        [\"G\",\"Cores físicos\",\"os.cpu_count()/2\",os.cpu_count()/2],\n",
    "        [\"H\",\"Ipv4\",\"socket.gethostbyname(socket.gethostname())\",socket.gethostbyname(socket.gethostname())],\n",
    "        ])\n",
    "    print(table.get_string())\n",
    "                \n",
    "                \n",
    "\n",
    "osInfo()"
   ]
  },
  {
   "source": [
    "<h1> Pregunta-4 </h1>\n",
    "Cambie el tamaño del buffer a 1024"
   ],
   "cell_type": "markdown",
   "metadata": {}
  },
  {
   "source": [
    "import threading\n",
    "import sys\n",
    "import socket\n",
    "import pickle\n",
    "import os\n",
    "\n",
    "class Cliente():\n",
    "\n",
    "\tdef __init__(self, host=socket.gethostname(), port=input(\"Port:\")):\n",
    "\t\tself.sock = socket.socket()\n",
    "\t\tself.sock.connect((str(host), int(port)))\n",
    "\t\thilo_recv_mensaje = threading.Thread(target=self.recibir)\n",
    "\t\thilo_recv_mensaje.daemon = True\n",
    "\t\thilo_recv_mensaje.start()\n",
    "\t\tprint('Hilo con PID',os.getpid())\n",
    "\t\tprint('Hilos activos', threading.active_count())\n",
    "\n",
    "\t\twhile True:\n",
    "\t\t\tmsg = input('\\nEscriba texto ? ** Enviar = ENTER ** Abandonar Chat = Q \\n')\n",
    "\t\t\tif msg != 'Q' :\n",
    "\t\t\t\tself.enviar(msg)\n",
    "\t\t\telse:\n",
    "\t\t\t\tprint(\" **** TALOGOOO  ****\")\n",
    "\t\t\t\tself.sock.close()\n",
    "\t\t\t\tsys.exit()\n",
    "\n",
    "\tdef recibir(self):\n",
    "\t\twhile True:\n",
    "\t\t\ttry:\n",
    "\t\t\t\tdata = self.sock.recv(1024) #data = self.sock.recv(32)\n",
    "\n",
    "\t\t\t\tif data:\n",
    "\t\t\t\t\tprint(pickle.loads(data))\n",
    "\t\t\texcept:\n",
    "\t\t\t\tpass\n",
    "\n",
    "\tdef enviar(self, msg):\n",
    "\t\tself.sock.send(pickle.dumps(msg))\n",
    "\n",
    "c = Cliente()"
   ],
   "cell_type": "code",
   "metadata": {},
   "execution_count": null,
   "outputs": []
  },
  {
   "source": [
    "<h1> Pregunta-5</h1>\n",
    "Ponga en marcha el chat, tanto cliente (4 instancias) así como el servidor y envié\n",
    "su configuración( podéis hacerlo a mano)"
   ],
   "cell_type": "markdown",
   "metadata": {}
  },
  {
   "cell_type": "code",
   "execution_count": 11,
   "metadata": {},
   "outputs": [
    {
     "output_type": "error",
     "ename": "TabError",
     "evalue": "inconsistent use of tabs and spaces in indentation (<ipython-input-11-fb69e3dc2138>, line 18)",
     "traceback": [
      "\u001b[1;36m  File \u001b[1;32m\"<ipython-input-11-fb69e3dc2138>\"\u001b[1;36m, line \u001b[1;32m18\u001b[0m\n\u001b[1;33m    self.enviar(platform.uname())\u001b[0m\n\u001b[1;37m                                 ^\u001b[0m\n\u001b[1;31mTabError\u001b[0m\u001b[1;31m:\u001b[0m inconsistent use of tabs and spaces in indentation\n"
     ]
    }
   ],
   "source": [
    "import threading\n",
    "import sys\n",
    "import socket\n",
    "import pickle\n",
    "import os\n",
    "import platform\n",
    "\n",
    "class Cliente():\n",
    "\n",
    "\tdef __init__(self, host=socket.gethostname(), port=input(\"Port:\")):\n",
    "\t\tself.sock = socket.socket()\n",
    "\t\tself.sock.connect((str(host), int(port)))\n",
    "\t\thilo_recv_mensaje = threading.Thread(target=self.recibir)\n",
    "\t\thilo_recv_mensaje.daemon = True\n",
    "\t\thilo_recv_mensaje.start()\n",
    "\t\tprint('Hilo con PID',os.getpid())\n",
    "\t\tprint('Hilos activos', threading.active_count())\n",
    "        self.enviar(platform.uname())\n",
    "\n",
    "\t\twhile True:\n",
    "\t\t\tmsg = input('\\nEscriba texto ? ** Enviar = ENTER ** Abandonar Chat = Q \\n')\n",
    "\t\t\tif msg != 'Q' :\n",
    "\t\t\t\tself.enviar(msg)\n",
    "\t\t\telse:\n",
    "\t\t\t\tprint(\" **** TALOGOOO  ****\")\n",
    "\t\t\t\tself.sock.close()\n",
    "\t\t\t\tsys.exit()\n",
    "\n",
    "\tdef recibir(self):\n",
    "\t\twhile True:\n",
    "\t\t\ttry:\n",
    "\t\t\t\tdata = self.sock.recv(1024) #data = self.sock.recv(32)\n",
    "\n",
    "\t\t\t\tif data:\n",
    "\t\t\t\t\tprint(pickle.loads(data))\n",
    "\t\t\texcept:\n",
    "\t\t\t\tpass\n",
    "\n",
    "\tdef enviar(self, msg):\n",
    "\t\tself.sock.send(pickle.dumps(msg))\n",
    "\n",
    "c = Cliente()"
   ]
  }
 ]
}