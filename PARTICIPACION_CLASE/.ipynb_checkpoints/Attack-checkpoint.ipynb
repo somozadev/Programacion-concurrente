{
 "cells": [
  {
   "cell_type": "markdown",
   "metadata": {},
   "source": [
    "<h1 style = \"text-align:left; color:#433789\">1. Crear plantilla y portada para todos los ejercicios que realizaremos a lo largo del curso.</h1>"
   ]
  },
  {
   "cell_type": "markdown",
   "metadata": {
    "scrolled": false
   },
   "source": [
    "<h1 style = \"text-align:center\">Programación Concurrente y Distribuida </h1>\n",
    "<a href=\"https://github.com/somozadev\">\n",
    "<img src=\"MARCOS_SOMOZA.jfif\" title = \"Marcos Eladio Somoza Corral 21711787\" alt=\"Marcos Eladio Somoza Corral\" width=\"100\" height=\"100\" style=\"float:left;vertical-alig:middle\">\n",
    "<img src=\"UEM.png\" title= \"M21\"alt=\"UE\" width=\"105\" height=\"105\" style=\"float:right;vertical-alig:middle\">"
   ]
  },
  {
   "cell_type": "markdown",
   "metadata": {},
   "source": [
    "<h1 style = \"text-align:left; color:#433789\">2.Cree un programa para determinar</h1>"
   ]
  },
  {
   "cell_type": "code",
   "execution_count": 17,
   "metadata": {},
   "outputs": [],
   "source": [
    "import os"
   ]
  },
  {
   "cell_type": "code",
   "execution_count": 18,
   "metadata": {
    "scrolled": true
   },
   "outputs": [],
   "source": [
    "import threading"
   ]
  },
  {
   "cell_type": "code",
   "execution_count": 19,
   "metadata": {},
   "outputs": [],
   "source": [
    "def cpu():\n",
    "    while True:\n",
    "        pass"
   ]
  },
  {
   "cell_type": "markdown",
   "metadata": {},
   "source": [
    "<h3 style = \"text-align:left; color:SlateBlue;\"> a)El número de proceso que lo maneja y cuántos procesos están activos</h3>"
   ]
  },
  {
   "cell_type": "code",
   "execution_count": 20,
   "metadata": {},
   "outputs": [
    {
     "name": "stdout",
     "output_type": "stream",
     "text": [
      "El proceso que está manejando este programa es:  13324\n"
     ]
    }
   ],
   "source": [
    "print(\"El proceso que está manejando este programa es: \", os.getpid())"
   ]
  },
  {
   "cell_type": "markdown",
   "metadata": {},
   "source": [
    "<h3 style = \"text-align:left; color:SlateBlue;\"> b)¿Cuántos hilos activos tienen lanzados en este momento?</h3>"
   ]
  },
  {
   "cell_type": "code",
   "execution_count": 21,
   "metadata": {},
   "outputs": [
    {
     "name": "stdout",
     "output_type": "stream",
     "text": [
      "Hilos lanzados 5\n"
     ]
    }
   ],
   "source": [
    "print(\"Hilos lanzados\", threading.activeCount())"
   ]
  },
  {
   "cell_type": "markdown",
   "metadata": {},
   "source": [
    "<h3 style = \"text-align:left; color:SlateBlue;\"> c)¿Cuántos cores lógicos tiene su equipo?</h3>"
   ]
  },
  {
   "cell_type": "code",
   "execution_count": 22,
   "metadata": {},
   "outputs": [
    {
     "name": "stdout",
     "output_type": "stream",
     "text": [
      "Este equipo tiene un total de 20 núcleos lógicos\n"
     ]
    }
   ],
   "source": [
    "print(\"Este equipo tiene un total de\",os.cpu_count(), \"núcleos lógicos\")"
   ]
  },
  {
   "cell_type": "markdown",
   "metadata": {},
   "source": [
    "<h3 style = \"text-align:left; color:SlateBlue;\"> d)¿Cuántos cores físicos tiene su equipo?</h3>"
   ]
  },
  {
   "cell_type": "markdown",
   "metadata": {},
   "source": [
    "print(\"Este equipo tiene un total de\",int(os.cpu_count()/2), \"núcleos físicos\")"
   ]
  },
  {
   "cell_type": "markdown",
   "metadata": {},
   "source": [
    "<p style=\"text-align:left;color:#877B9A\">Si vemos las propiedades del equipo vemos que \n",
    "tenemos un Intel(R) Core(TM) i9-10850k @ 3.60GHz de 10 núcleos físicos. Para ver los cores físicos se debe dividir entre 2 el resultado de os.cpu_count() dado que muestra también los hyperthreaded cores, donde cada núcleo se \"divide\" para crear un núcleo virtual extra. Información disponible en:  https://github.com/giampaolo/psutil/issues/427 </p>"
   ]
  },
  {
   "cell_type": "markdown",
   "metadata": {},
   "source": [
    "<h3 style = \"text-align:left; color:SlateBlue;\"> e)Enumere e idenfique los hilos lanzados</h3>"
   ]
  },
  {
   "cell_type": "code",
   "execution_count": 23,
   "metadata": {},
   "outputs": [
    {
     "name": "stdout",
     "output_type": "stream",
     "text": [
      "<_MainThread(MainThread, started 35220)>\n",
      "<Thread(Thread-4, started daemon 27760)>\n",
      "<Heartbeat(Thread-5, started daemon 27624)>\n",
      "<HistorySavingThread(IPythonHistorySavingThread, started 16364)>\n",
      "<ParentPollerWindows(Thread-3, started daemon 9480)>\n"
     ]
    }
   ],
   "source": [
    "for thread in threading.enumerate():\n",
    "    print(thread)"
   ]
  },
  {
   "cell_type": "markdown",
   "metadata": {},
   "source": [
    "<p style=\"text-align:left;color:#675B7B\"> <b style = color:>1.MainThread:</b> se trata del hilo principal de la ejecución. </p>"
   ]
  },
  {
   "cell_type": "markdown",
   "metadata": {},
   "source": [
    "<p style=\"text-align:left;color:#675B7B\"> <b style = color:>2.Daemon:</b> Hilo demonio,a veces los programas generan un hilo como un demonio que se ejecuta sin bloquear el programa principal de salir. El uso de hilos de demonio es útil para servicios donde puede que no haya una manera fácil de interrumpir el hilo, o donde dejar que el el hilo muera en medio de su trabajo, no pierde ni corrompe los datos (por ejemplo, un hilo que genera «latidos del corazón» para una herramienta de monitoreo de servicio).</p>"
   ]
  },
  {
   "cell_type": "markdown",
   "metadata": {},
   "source": [
    "<p style=\"text-align:left;color:#675B7B\"> <b style = color:>3.Heartbeat:</b> Hilo encargado del loop central o heart loop. También marcado como hilo demonio.</p>"
   ]
  },
  {
   "cell_type": "markdown",
   "metadata": {},
   "source": [
    "<p style=\"text-align:left;color:#675B7B\"> <b style = color:>4.HistorySavingThread:</b> de IPhython, se encarga del registro histórico de los hilos.</p>"
   ]
  },
  {
   "cell_type": "markdown",
   "metadata": {},
   "source": [
    "<p style=\"text-align:left;color:#675B7B\"> <b style = color:>5.ParentPollerWindows:</b> Indica que los hilos trabajan en un sistema operativo determinado, windows en este caso. Ejemplo disponible en: https://codesuche.com/python-examples/parentpoller.ParentPollerUnix/ </p>"
   ]
  },
  {
   "cell_type": "markdown",
   "metadata": {},
   "source": [
    "<h1 style = \"text-align:left; color:#433789\">3. Lance un ataque usando 200 hilos a https://github.com/sukuzhanay</h1>"
   ]
  },
  {
   "cell_type": "code",
   "execution_count": 24,
   "metadata": {},
   "outputs": [],
   "source": [
    "import requests"
   ]
  },
  {
   "cell_type": "code",
   "execution_count": 28,
   "metadata": {},
   "outputs": [],
   "source": [
    "def ataque():\n",
    "    ataque = requests.get('https://github.com/sukuzhanay')\n",
    "    ataque"
   ]
  },
  {
   "cell_type": "code",
   "execution_count": 29,
   "metadata": {},
   "outputs": [
    {
     "name": "stdout",
     "output_type": "stream",
     "text": [
      "ataque con 200 hilos\n"
     ]
    }
   ],
   "source": [
    "print('ataque con 200 hilos')\n",
    "for i in range(200):\n",
    "    threading.Thread(target=ataque).start()"
   ]
  },
  {
   "cell_type": "markdown",
   "metadata": {},
   "source": [
    "<h1 style = \"text-align:left; color:#433789\">3. Lance un ataque de 1000 hilos a https://www.youtube.com/channel/UCEXbXdeafAjBahYK2hoQJFg</h1>"
   ]
  },
  {
   "cell_type": "code",
   "execution_count": 33,
   "metadata": {},
   "outputs": [],
   "source": [
    "def ataque():\n",
    "    ataque = requests.get('https://www.youtube.com/channel/UCEXbXdeafAjBahYK2hoQJFg')\n",
    "    ataque"
   ]
  },
  {
   "cell_type": "code",
   "execution_count": 34,
   "metadata": {},
   "outputs": [
    {
     "name": "stdout",
     "output_type": "stream",
     "text": [
      "ataque con 1000 hilos\n"
     ]
    }
   ],
   "source": [
    "print('ataque con 1000 hilos')\n",
    "for i in range(200):\n",
    "    threading.Thread(target=ataque).start()"
   ]
  }
 ],
 "metadata": {
  "kernelspec": {
   "display_name": "Python 3",
   "language": "python",
   "name": "python3"
  },
  "language_info": {
   "codemirror_mode": {
    "name": "ipython",
    "version": 3
   },
   "file_extension": ".py",
   "mimetype": "text/x-python",
   "name": "python",
   "nbconvert_exporter": "python",
   "pygments_lexer": "ipython3",
   "version": "3.6.4"
  }
 },
 "nbformat": 4,
 "nbformat_minor": 2
}
